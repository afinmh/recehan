{
 "cells": [
  {
   "cell_type": "code",
   "execution_count": 67,
   "metadata": {
    "colab": {
     "base_uri": "https://localhost:8080/"
    },
    "executionInfo": {
     "elapsed": 30,
     "status": "ok",
     "timestamp": 1741011319766,
     "user": {
      "displayName": "JASMAN PARDEDE",
      "userId": "06953395367599209044"
     },
     "user_tz": -420
    },
    "id": "zEPJ9y9HTwbm",
    "outputId": "373fe874-a872-47f9-a42c-00c64b5dfa40"
   },
   "outputs": [],
   "source": [
    "import pandas as pd\n",
    "import numpy as np\n",
    "import matplotlib.pyplot as plt\n",
    "from sklearn.neural_network import MLPRegressor\n",
    "from sklearn.model_selection import train_test_split\n",
    "from sklearn.metrics import mean_squared_error, r2_score\n",
    "import torch\n",
    "import torch.nn as nn\n",
    "import torch.optim as optim\n",
    "from sklearn.model_selection import train_test_split\n",
    "from sklearn.preprocessing import StandardScaler\n",
    "\n",
    "file_path = 'archive/Data_Tanaman_Padi_Sumatera_version_1.csv'\n",
    "\n",
    "df = pd.read_csv(file_path)\n",
    "X = df[[\"Luas Panen\", \"Curah hujan\", \"Kelembapan\" ,\"Suhu rata-rata\"]]\n",
    "y = df['Produksi']\n",
    "\n",
    "X_train, X_test, y_train, y_test = train_test_split(X, y, test_size=0.2, random_state=42)"
   ]
  },
  {
   "cell_type": "markdown",
   "metadata": {},
   "source": [
    "Aktifasi Swish"
   ]
  },
  {
   "cell_type": "code",
   "execution_count": 15,
   "metadata": {},
   "outputs": [],
   "source": [
    "scaler = StandardScaler()\n",
    "X_scaled = scaler.fit_transform(df[[\"Luas Panen\", \"Curah hujan\", \"Kelembapan\", \"Suhu rata-rata\"]].values)\n",
    "y = df['Produksi'].values\n",
    "\n",
    "X_train, X_test, y_train, y_test = train_test_split(X_scaled, y, test_size=0.2, random_state=42)\n",
    "\n",
    "X_train_tensor = torch.tensor(X_train, dtype=torch.float32)\n",
    "y_train_tensor = torch.tensor(y_train, dtype=torch.float32).view(-1, 1)\n",
    "X_test_tensor = torch.tensor(X_test, dtype=torch.float32)\n",
    "y_test_tensor = torch.tensor(y_test, dtype=torch.float32).view(-1, 1)\n",
    "\n",
    "epochs = 1000"
   ]
  },
  {
   "cell_type": "markdown",
   "metadata": {},
   "source": [
    "Adam"
   ]
  },
  {
   "cell_type": "code",
   "execution_count": 20,
   "metadata": {},
   "outputs": [
    {
     "name": "stdout",
     "output_type": "stream",
     "text": [
      "MSE (Swish + Adam): 80087727537.6730\n",
      "R² Score (Swish + Adam): 0.9094\n"
     ]
    }
   ],
   "source": [
    "class MLPSwish(nn.Module):\n",
    "    def __init__(self):\n",
    "        super(MLPSwish, self).__init__()\n",
    "        self.fc1 = nn.Linear(4, 50)\n",
    "        self.fc2 = nn.Linear(50, 50)\n",
    "        self.fc3 = nn.Linear(50, 1)\n",
    "\n",
    "    def swish(self, x):\n",
    "        return x * torch.sigmoid(x)\n",
    "\n",
    "    def forward(self, x):\n",
    "        x = self.swish(self.fc1(x))\n",
    "        x = self.swish(self.fc2(x))\n",
    "        x = self.fc3(x)\n",
    "        return x\n",
    "\n",
    "model_swish = MLPSwish()\n",
    "criterion = nn.MSELoss()\n",
    "optimizer = optim.Adam(model_swish.parameters(), lr=0.01)\n",
    "\n",
    "for epoch in range(epochs):\n",
    "    optimizer.zero_grad()\n",
    "    y_pred_train = model_swish(X_train_tensor)\n",
    "    loss = criterion(y_pred_train, y_train_tensor)\n",
    "    loss.backward()\n",
    "    optimizer.step()\n",
    "\n",
    "y_pred_test = model_swish(X_test_tensor).detach().numpy()\n",
    "mse = mean_squared_error(y_test, y_pred_test)\n",
    "r2 = r2_score(y_test, y_pred_test)\n",
    "\n",
    "print(f'MSE (Swish + Adam): {mse:.4f}')\n",
    "print(f'R² Score (Swish + Adam): {r2:.4f}')\n"
   ]
  },
  {
   "cell_type": "markdown",
   "metadata": {},
   "source": [
    "Gradient"
   ]
  },
  {
   "cell_type": "code",
   "execution_count": 32,
   "metadata": {},
   "outputs": [
    {
     "name": "stdout",
     "output_type": "stream",
     "text": [
      "MSE (Swish + Adagard): 3080621282149.1064\n",
      "R² Score (Swish + Adagard): -2.4844\n"
     ]
    }
   ],
   "source": [
    "class MLPSwish(nn.Module):\n",
    "    def __init__(self):\n",
    "        super(MLPSwish, self).__init__()\n",
    "        self.fc1 = nn.Linear(4, 50)\n",
    "        self.fc2 = nn.Linear(50, 50)\n",
    "        self.fc3 = nn.Linear(50, 1)\n",
    "\n",
    "    def swish(self, x):\n",
    "        return x * torch.sigmoid(x)\n",
    "\n",
    "    def forward(self, x):\n",
    "        x = self.swish(self.fc1(x))\n",
    "        x = self.swish(self.fc2(x))\n",
    "        x = self.fc3(x)\n",
    "        return x\n",
    "\n",
    "model_swish = MLPSwish()\n",
    "criterion = nn.MSELoss()\n",
    "optimizer = optim.Adagrad(model_swish.parameters())\n",
    "\n",
    "for epoch in range(epochs):\n",
    "    optimizer.zero_grad()\n",
    "    y_pred_train = model_swish(X_train_tensor)\n",
    "    loss = criterion(y_pred_train, y_train_tensor)\n",
    "    loss.backward()\n",
    "    optimizer.step()\n",
    "\n",
    "y_pred_test = model_swish(X_test_tensor).detach().numpy()\n",
    "mse = mean_squared_error(y_test, y_pred_test)\n",
    "r2 = r2_score(y_test, y_pred_test)\n",
    "\n",
    "print(f'MSE (Swish + Adagard): {mse:.4f}')\n",
    "print(f'R² Score (Swish + Adagard): {r2:.4f}')\n"
   ]
  },
  {
   "cell_type": "code",
   "execution_count": 36,
   "metadata": {},
   "outputs": [
    {
     "name": "stdout",
     "output_type": "stream",
     "text": [
      "MSE (Swish + Adadelta): 105411449535.9086\n",
      "R² Score (Swish + Adadelta): 0.8808\n"
     ]
    }
   ],
   "source": [
    "class MLPSwish(nn.Module):\n",
    "    def __init__(self):\n",
    "        super(MLPSwish, self).__init__()\n",
    "        self.fc1 = nn.Linear(4, 50)\n",
    "        self.fc2 = nn.Linear(50, 50)\n",
    "        self.fc3 = nn.Linear(50, 1)\n",
    "\n",
    "    def swish(self, x):\n",
    "        return x * torch.sigmoid(x)\n",
    "\n",
    "    def forward(self, x):\n",
    "        x = self.swish(self.fc1(x))\n",
    "        x = self.swish(self.fc2(x))\n",
    "        x = self.fc3(x)\n",
    "        return x\n",
    "\n",
    "model_swish = MLPSwish()\n",
    "criterion = nn.MSELoss()\n",
    "optimizer = torch.optim.Adadelta(model_swish.parameters())\n",
    "\n",
    "for epoch in range(epochs):\n",
    "    optimizer.zero_grad()\n",
    "    y_pred_train = model_swish(X_train_tensor)\n",
    "    loss = criterion(y_pred_train, y_train_tensor)\n",
    "    loss.backward()\n",
    "    optimizer.step()\n",
    "\n",
    "y_pred_test = model_swish(X_test_tensor).detach().numpy()\n",
    "mse = mean_squared_error(y_test, y_pred_test)\n",
    "r2 = r2_score(y_test, y_pred_test)\n",
    "\n",
    "print(f'MSE (Swish + Adadelta): {mse:.4f}')\n",
    "print(f'R² Score (Swish + Adadelta): {r2:.4f}')\n"
   ]
  },
  {
   "cell_type": "code",
   "execution_count": 44,
   "metadata": {},
   "outputs": [
    {
     "name": "stdout",
     "output_type": "stream",
     "text": [
      "MSE (Swish + RMSprop): 126592171036.4420\n",
      "R² Score (Swish + RMSprop): 0.8568\n"
     ]
    }
   ],
   "source": [
    "class MLPSwish(nn.Module):\n",
    "    def __init__(self):\n",
    "        super(MLPSwish, self).__init__()\n",
    "        self.fc1 = nn.Linear(4, 50)\n",
    "        self.fc2 = nn.Linear(50, 50)\n",
    "        self.fc3 = nn.Linear(50, 1)\n",
    "\n",
    "    def swish(self, x):\n",
    "        return x * torch.sigmoid(x)\n",
    "\n",
    "    def forward(self, x):\n",
    "        x = self.swish(self.fc1(x))\n",
    "        x = self.swish(self.fc2(x))\n",
    "        x = self.fc3(x)\n",
    "        return x\n",
    "\n",
    "model_swish = MLPSwish()\n",
    "criterion = nn.MSELoss()\n",
    "optimizer = optim.RMSprop(model_swish.parameters(), lr=0.01, alpha=0.9, weight_decay=0, momentum=0)\n",
    "\n",
    "for epoch in range(epochs):\n",
    "    optimizer.zero_grad()\n",
    "    y_pred_train = model_swish(X_train_tensor)\n",
    "    loss = criterion(y_pred_train, y_train_tensor)\n",
    "    loss.backward()\n",
    "    optimizer.step()\n",
    "\n",
    "y_pred_test = model_swish(X_test_tensor).detach().numpy()\n",
    "mse = mean_squared_error(y_test, y_pred_test)\n",
    "r2 = r2_score(y_test, y_pred_test)\n",
    "\n",
    "print(f'MSE (Swish + RMSprop): {mse:.4f}')\n",
    "print(f'R² Score (Swish + RMSprop): {r2:.4f}')\n"
   ]
  },
  {
   "cell_type": "code",
   "execution_count": 49,
   "metadata": {},
   "outputs": [
    {
     "name": "stdout",
     "output_type": "stream",
     "text": [
      "MSE (Swish + AdamW): 85827784283.2278\n",
      "R² Score (Swish + AdamW): 0.9029\n"
     ]
    }
   ],
   "source": [
    "class MLPSwish(nn.Module):\n",
    "    def __init__(self):\n",
    "        super(MLPSwish, self).__init__()\n",
    "        self.fc1 = nn.Linear(4, 50)\n",
    "        self.fc2 = nn.Linear(50, 50)\n",
    "        self.fc3 = nn.Linear(50, 1)\n",
    "\n",
    "    def swish(self, x):\n",
    "        return x * torch.sigmoid(x)\n",
    "\n",
    "    def forward(self, x):\n",
    "        x = self.swish(self.fc1(x))\n",
    "        x = self.swish(self.fc2(x))\n",
    "        x = self.fc3(x)\n",
    "        return x\n",
    "\n",
    "model_swish = MLPSwish()\n",
    "criterion = nn.MSELoss()\n",
    "optimizer = optim.AdamW(model_swish.parameters(), lr=0.01, weight_decay=0.01)\n",
    "\n",
    "for epoch in range(epochs):\n",
    "    optimizer.zero_grad()\n",
    "    y_pred_train = model_swish(X_train_tensor)\n",
    "    loss = criterion(y_pred_train, y_train_tensor)\n",
    "    loss.backward()\n",
    "    optimizer.step()\n",
    "\n",
    "y_pred_test = model_swish(X_test_tensor).detach().numpy()\n",
    "mse = mean_squared_error(y_test, y_pred_test)\n",
    "r2 = r2_score(y_test, y_pred_test)\n",
    "\n",
    "print(f'MSE (Swish + AdamW): {mse:.4f}')\n",
    "print(f'R² Score (Swish + AdamW): {r2:.4f}')\n"
   ]
  },
  {
   "cell_type": "code",
   "execution_count": 63,
   "metadata": {},
   "outputs": [
    {
     "name": "stdout",
     "output_type": "stream",
     "text": [
      "MSE (Swish + NAdam): 93268091029.0988\n",
      "R² Score (Swish + NAdam): 0.8945\n"
     ]
    }
   ],
   "source": [
    "class MLPSwish(nn.Module):\n",
    "    def __init__(self):\n",
    "        super(MLPSwish, self).__init__()\n",
    "        self.fc1 = nn.Linear(4, 50)\n",
    "        self.fc2 = nn.Linear(50, 50)\n",
    "        self.fc3 = nn.Linear(50, 1)\n",
    "\n",
    "    def swish(self, x):\n",
    "        return x * torch.sigmoid(x)\n",
    "\n",
    "    def forward(self, x):\n",
    "        x = self.swish(self.fc1(x))\n",
    "        x = self.swish(self.fc2(x))\n",
    "        x = self.fc3(x)\n",
    "        return x\n",
    "\n",
    "model_swish = MLPSwish()\n",
    "criterion = nn.MSELoss()\n",
    "optimizer = optim.NAdam(model_swish.parameters(), lr=0.01)\n",
    "\n",
    "for epoch in range(epochs):\n",
    "    optimizer.zero_grad()\n",
    "    y_pred_train = model_swish(X_train_tensor)\n",
    "    loss = criterion(y_pred_train, y_train_tensor)\n",
    "    loss.backward()\n",
    "    optimizer.step()\n",
    "\n",
    "y_pred_test = model_swish(X_test_tensor).detach().numpy()\n",
    "mse = mean_squared_error(y_test, y_pred_test)\n",
    "r2 = r2_score(y_test, y_pred_test)\n",
    "\n",
    "print(f'MSE (Swish + NAdam): {mse:.4f}')\n",
    "print(f'R² Score (Swish + NAdam): {r2:.4f}')\n"
   ]
  },
  {
   "cell_type": "code",
   "execution_count": 70,
   "metadata": {},
   "outputs": [
    {
     "name": "stdout",
     "output_type": "stream",
     "text": [
      "MSE (Swish + Lion): 3087883048332.2407\n",
      "R² Score (Swish + Lion): -2.4926\n"
     ]
    }
   ],
   "source": [
    "from lion_pytorch import Lion\n",
    "class MLPSwish(nn.Module):\n",
    "    def __init__(self):\n",
    "        super(MLPSwish, self).__init__()\n",
    "        self.fc1 = nn.Linear(4, 50)\n",
    "        self.fc2 = nn.Linear(50, 50)\n",
    "        self.fc3 = nn.Linear(50, 1)\n",
    "\n",
    "    def swish(self, x):\n",
    "        return x * torch.sigmoid(x)\n",
    "\n",
    "    def forward(self, x):\n",
    "        x = self.swish(self.fc1(x))\n",
    "        x = self.swish(self.fc2(x))\n",
    "        x = self.fc3(x)\n",
    "        return x\n",
    "\n",
    "model_swish = MLPSwish()\n",
    "criterion = nn.MSELoss()\n",
    "optimizer = Lion(model_swish.parameters())\n",
    "\n",
    "for epoch in range(epochs):\n",
    "    optimizer.zero_grad()\n",
    "    y_pred_train = model_swish(X_train_tensor)\n",
    "    loss = criterion(y_pred_train, y_train_tensor)\n",
    "    loss.backward()\n",
    "    optimizer.step()\n",
    "\n",
    "y_pred_test = model_swish(X_test_tensor).detach().numpy()\n",
    "mse = mean_squared_error(y_test, y_pred_test)\n",
    "r2 = r2_score(y_test, y_pred_test)\n",
    "\n",
    "print(f'MSE (Swish + Lion): {mse:.4f}')\n",
    "print(f'R² Score (Swish + Lion): {r2:.4f}')\n"
   ]
  }
 ],
 "metadata": {
  "colab": {
   "authorship_tag": "ABX9TyPP6W+2YWRg9xNpwuoWrD6F",
   "provenance": []
  },
  "kernelspec": {
   "display_name": "Python 3",
   "name": "python3"
  },
  "language_info": {
   "codemirror_mode": {
    "name": "ipython",
    "version": 3
   },
   "file_extension": ".py",
   "mimetype": "text/x-python",
   "name": "python",
   "nbconvert_exporter": "python",
   "pygments_lexer": "ipython3",
   "version": "3.9.13"
  }
 },
 "nbformat": 4,
 "nbformat_minor": 0
}
