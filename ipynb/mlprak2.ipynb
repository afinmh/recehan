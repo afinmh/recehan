{
 "cells": [
  {
   "cell_type": "code",
   "execution_count": 31,
   "metadata": {},
   "outputs": [
    {
     "name": "stdout",
     "output_type": "stream",
     "text": [
      "<class 'pandas.core.frame.DataFrame'>\n",
      "RangeIndex: 891 entries, 0 to 890\n",
      "Data columns (total 12 columns):\n",
      " #   Column       Non-Null Count  Dtype  \n",
      "---  ------       --------------  -----  \n",
      " 0   PassengerId  891 non-null    int64  \n",
      " 1   Survived     891 non-null    int64  \n",
      " 2   Pclass       891 non-null    int64  \n",
      " 3   Name         891 non-null    object \n",
      " 4   Sex          891 non-null    object \n",
      " 5   Age          714 non-null    float64\n",
      " 6   SibSp        891 non-null    int64  \n",
      " 7   Parch        891 non-null    int64  \n",
      " 8   Ticket       891 non-null    object \n",
      " 9   Fare         891 non-null    float64\n",
      " 10  Cabin        204 non-null    object \n",
      " 11  Embarked     889 non-null    object \n",
      "dtypes: float64(2), int64(5), object(5)\n",
      "memory usage: 83.7+ KB\n"
     ]
    },
    {
     "data": {
      "text/plain": [
       "PassengerId      0\n",
       "Survived         0\n",
       "Pclass           0\n",
       "Name             0\n",
       "Sex              0\n",
       "Age            177\n",
       "SibSp            0\n",
       "Parch            0\n",
       "Ticket           0\n",
       "Fare             0\n",
       "Cabin          687\n",
       "Embarked         2\n",
       "dtype: int64"
      ]
     },
     "execution_count": 31,
     "metadata": {},
     "output_type": "execute_result"
    }
   ],
   "source": [
    "import pandas as pd\n",
    "import numpy as np\n",
    "import seaborn as sns\n",
    "import matplotlib.pyplot as plt\n",
    "\n",
    "df = pd.read_csv(\"titanic.csv\")\n",
    "df.info()\n",
    "df.isnull().sum()"
   ]
  },
  {
   "cell_type": "code",
   "execution_count": 32,
   "metadata": {},
   "outputs": [
    {
     "data": {
      "text/plain": [
       "(0.15    17.0\n",
       " 0.50    28.0\n",
       " 0.80    41.0\n",
       " Name: Age, dtype: float64,\n",
       " 0.15     7.7500\n",
       " 0.50    14.4542\n",
       " 0.80    39.6875\n",
       " Name: Fare, dtype: float64)"
      ]
     },
     "execution_count": 32,
     "metadata": {},
     "output_type": "execute_result"
    }
   ],
   "source": [
    "quartiles = [0.15, 0.50, 0.80]\n",
    "age_quartiles = df['Age'].quantile(quartiles)\n",
    "fare_quartiles = df['Fare'].quantile(quartiles)\n",
    "\n",
    "age_quartiles, fare_quartiles\n"
   ]
  },
  {
   "cell_type": "code",
   "execution_count": 33,
   "metadata": {},
   "outputs": [
    {
     "data": {
      "text/html": [
       "<div>\n",
       "<style scoped>\n",
       "    .dataframe tbody tr th:only-of-type {\n",
       "        vertical-align: middle;\n",
       "    }\n",
       "\n",
       "    .dataframe tbody tr th {\n",
       "        vertical-align: top;\n",
       "    }\n",
       "\n",
       "    .dataframe thead th {\n",
       "        text-align: right;\n",
       "    }\n",
       "</style>\n",
       "<table border=\"1\" class=\"dataframe\">\n",
       "  <thead>\n",
       "    <tr style=\"text-align: right;\">\n",
       "      <th></th>\n",
       "      <th>min</th>\n",
       "      <th>max</th>\n",
       "    </tr>\n",
       "    <tr>\n",
       "      <th>Sex</th>\n",
       "      <th></th>\n",
       "      <th></th>\n",
       "    </tr>\n",
       "  </thead>\n",
       "  <tbody>\n",
       "    <tr>\n",
       "      <th>female</th>\n",
       "      <td>0.75</td>\n",
       "      <td>63.0</td>\n",
       "    </tr>\n",
       "    <tr>\n",
       "      <th>male</th>\n",
       "      <td>0.42</td>\n",
       "      <td>80.0</td>\n",
       "    </tr>\n",
       "  </tbody>\n",
       "</table>\n",
       "</div>"
      ],
      "text/plain": [
       "         min   max\n",
       "Sex               \n",
       "female  0.75  63.0\n",
       "male    0.42  80.0"
      ]
     },
     "execution_count": 33,
     "metadata": {},
     "output_type": "execute_result"
    }
   ],
   "source": [
    "min_max_age = df.groupby(\"Sex\")[\"Age\"].agg([\"min\", \"max\"])\n",
    "min_max_age\n"
   ]
  },
  {
   "cell_type": "code",
   "execution_count": 34,
   "metadata": {},
   "outputs": [
    {
     "data": {
      "text/plain": [
       "Sex\n",
       "female    27.915709\n",
       "male      30.726645\n",
       "Name: Age, dtype: float64"
      ]
     },
     "execution_count": 34,
     "metadata": {},
     "output_type": "execute_result"
    }
   ],
   "source": [
    "mean_age = df.groupby(\"Sex\")[\"Age\"].mean()\n",
    "mean_age"
   ]
  },
  {
   "cell_type": "code",
   "execution_count": 35,
   "metadata": {},
   "outputs": [
    {
     "data": {
      "text/html": [
       "<div>\n",
       "<style scoped>\n",
       "    .dataframe tbody tr th:only-of-type {\n",
       "        vertical-align: middle;\n",
       "    }\n",
       "\n",
       "    .dataframe tbody tr th {\n",
       "        vertical-align: top;\n",
       "    }\n",
       "\n",
       "    .dataframe thead th {\n",
       "        text-align: right;\n",
       "    }\n",
       "</style>\n",
       "<table border=\"1\" class=\"dataframe\">\n",
       "  <thead>\n",
       "    <tr style=\"text-align: right;\">\n",
       "      <th></th>\n",
       "      <th>Age</th>\n",
       "      <th>Fare</th>\n",
       "    </tr>\n",
       "  </thead>\n",
       "  <tbody>\n",
       "    <tr>\n",
       "      <th>Age</th>\n",
       "      <td>1.000000</td>\n",
       "      <td>0.096067</td>\n",
       "    </tr>\n",
       "    <tr>\n",
       "      <th>Fare</th>\n",
       "      <td>0.096067</td>\n",
       "      <td>1.000000</td>\n",
       "    </tr>\n",
       "  </tbody>\n",
       "</table>\n",
       "</div>"
      ],
      "text/plain": [
       "           Age      Fare\n",
       "Age   1.000000  0.096067\n",
       "Fare  0.096067  1.000000"
      ]
     },
     "execution_count": 35,
     "metadata": {},
     "output_type": "execute_result"
    }
   ],
   "source": [
    "correlation_age_fare = df[['Age', 'Fare']].corr()\n",
    "correlation_age_fare"
   ]
  },
  {
   "cell_type": "code",
   "execution_count": 36,
   "metadata": {},
   "outputs": [
    {
     "data": {
      "text/plain": [
       "PassengerId    0.036847\n",
       "Survived      -0.077221\n",
       "Pclass        -0.369226\n",
       "Age            1.000000\n",
       "SibSp         -0.308247\n",
       "Parch         -0.189119\n",
       "Fare           0.096067\n",
       "Name: Age, dtype: float64"
      ]
     },
     "execution_count": 36,
     "metadata": {},
     "output_type": "execute_result"
    }
   ],
   "source": [
    "correlation_age_others = df.corr(numeric_only=True)[\"Age\"]\n",
    "correlation_age_others\n"
   ]
  },
  {
   "cell_type": "code",
   "execution_count": 37,
   "metadata": {},
   "outputs": [
    {
     "data": {
      "text/plain": [
       "(std     14.526497\n",
       " var    211.019125\n",
       " Name: Age, dtype: float64,\n",
       " std      49.693429\n",
       " var    2469.436846\n",
       " Name: Fare, dtype: float64)"
      ]
     },
     "execution_count": 37,
     "metadata": {},
     "output_type": "execute_result"
    }
   ],
   "source": [
    "std_var_age = df[\"Age\"].agg([\"std\", \"var\"])\n",
    "std_var_fare = df[\"Fare\"].agg([\"std\", \"var\"])\n",
    "std_var_age, std_var_fare"
   ]
  },
  {
   "cell_type": "code",
   "execution_count": 38,
   "metadata": {},
   "outputs": [
    {
     "name": "stdout",
     "output_type": "stream",
     "text": [
      "Data sebelum perubahan:\n",
      "                             Name     Sex   Age Cabin Embarked\n",
      "0         Braund, Mr. Owen Harris    male  22.0   NaN        S\n",
      "2          Heikkinen, Miss. Laina  female  26.0   NaN        S\n",
      "4        Allen, Mr. William Henry    male  35.0   NaN        S\n",
      "5                Moran, Mr. James    male   NaN   NaN        Q\n",
      "7  Palsson, Master. Gosta Leonard    male   2.0   NaN        S\n",
      "\n",
      "Data setelah perubahan:\n",
      "                             Name     Sex   Age Cabin Embarked\n",
      "0         Braund, Mr. Owen Harris    male  22.0     0        S\n",
      "2          Heikkinen, Miss. Laina  female  26.0     0        S\n",
      "4        Allen, Mr. William Henry    male  35.0     0        S\n",
      "5                Moran, Mr. James    male   0.0     0        Q\n",
      "7  Palsson, Master. Gosta Leonard    male   2.0     0        S\n"
     ]
    }
   ],
   "source": [
    "df_with_nan = df[df[['Name', 'Sex', 'Age', 'Cabin', 'Embarked']].isnull().any(axis=1)]\n",
    "print(\"Data sebelum perubahan:\")\n",
    "print(df_with_nan[['Name', 'Sex', 'Age', 'Cabin', 'Embarked']].head())\n",
    "\n",
    "df_zero = df.fillna(0)\n",
    "\n",
    "df_zero_updated = df_zero.loc[df_with_nan.index, ['Name', 'Sex', 'Age', 'Cabin', 'Embarked']]\n",
    "print(\"\\nData setelah perubahan:\")\n",
    "print(df_zero_updated.head())\n"
   ]
  },
  {
   "cell_type": "code",
   "execution_count": 39,
   "metadata": {},
   "outputs": [
    {
     "name": "stdout",
     "output_type": "stream",
     "text": [
      "Data sebelum perubahan:\n",
      "                             Name     Sex   Age Cabin Embarked\n",
      "0         Braund, Mr. Owen Harris    male  22.0   NaN        S\n",
      "2          Heikkinen, Miss. Laina  female  26.0   NaN        S\n",
      "4        Allen, Mr. William Henry    male  35.0   NaN        S\n",
      "5                Moran, Mr. James    male   NaN   NaN        Q\n",
      "7  Palsson, Master. Gosta Leonard    male   2.0   NaN        S\n",
      "\n",
      "Data setelah perubahan:\n",
      "                             Name     Sex   Age Cabin Embarked\n",
      "0         Braund, Mr. Owen Harris    male  22.0   NaN        S\n",
      "2          Heikkinen, Miss. Laina  female  26.0   C85        S\n",
      "4        Allen, Mr. William Henry    male  35.0  C123        S\n",
      "5                Moran, Mr. James    male  35.0  C123        Q\n",
      "7  Palsson, Master. Gosta Leonard    male   2.0   E46        S\n"
     ]
    },
    {
     "name": "stderr",
     "output_type": "stream",
     "text": [
      "C:\\Users\\user\\AppData\\Local\\Temp\\ipykernel_4512\\1263753445.py:4: FutureWarning: DataFrame.fillna with 'method' is deprecated and will raise in a future version. Use obj.ffill() or obj.bfill() instead.\n",
      "  df_pad = df.fillna(method=\"pad\")\n"
     ]
    }
   ],
   "source": [
    "print(\"Data sebelum perubahan:\")\n",
    "print(df_with_nan[['Name', 'Sex', 'Age', 'Cabin', 'Embarked']].head())\n",
    "\n",
    "df_pad = df.fillna(method=\"pad\")\n",
    "\n",
    "df_pad_updated = df_pad.loc[df_with_nan.index, ['Name', 'Sex', 'Age', 'Cabin', 'Embarked']]\n",
    "print(\"\\nData setelah perubahan:\")\n",
    "print(df_pad_updated.head())"
   ]
  },
  {
   "cell_type": "code",
   "execution_count": 40,
   "metadata": {},
   "outputs": [
    {
     "name": "stdout",
     "output_type": "stream",
     "text": [
      "Data sebelum perubahan:\n",
      "                             Name     Sex   Age Cabin Embarked\n",
      "0         Braund, Mr. Owen Harris    male  22.0   NaN        S\n",
      "2          Heikkinen, Miss. Laina  female  26.0   NaN        S\n",
      "4        Allen, Mr. William Henry    male  35.0   NaN        S\n",
      "5                Moran, Mr. James    male   NaN   NaN        Q\n",
      "7  Palsson, Master. Gosta Leonard    male   2.0   NaN        S\n",
      "\n",
      "Data setelah perubahan:\n",
      "                             Name     Sex   Age Cabin Embarked\n",
      "0         Braund, Mr. Owen Harris    male  22.0   C85        S\n",
      "2          Heikkinen, Miss. Laina  female  26.0  C123        S\n",
      "4        Allen, Mr. William Henry    male  35.0   E46        S\n",
      "5                Moran, Mr. James    male  54.0   E46        Q\n",
      "7  Palsson, Master. Gosta Leonard    male   2.0    G6        S\n"
     ]
    },
    {
     "name": "stderr",
     "output_type": "stream",
     "text": [
      "C:\\Users\\user\\AppData\\Local\\Temp\\ipykernel_4512\\498816647.py:4: FutureWarning: DataFrame.fillna with 'method' is deprecated and will raise in a future version. Use obj.ffill() or obj.bfill() instead.\n",
      "  df_bfill = df.fillna(method=\"bfill\")\n"
     ]
    }
   ],
   "source": [
    "print(\"Data sebelum perubahan:\")\n",
    "print(df_with_nan[['Name', 'Sex', 'Age', 'Cabin', 'Embarked']].head())\n",
    "\n",
    "df_bfill = df.fillna(method=\"bfill\")\n",
    "\n",
    "df_bfill_updated = df_bfill.loc[df_with_nan.index, ['Name', 'Sex', 'Age', 'Cabin', 'Embarked']]\n",
    "print(\"\\nData setelah perubahan:\")\n",
    "print(df_bfill_updated.head())"
   ]
  },
  {
   "cell_type": "code",
   "execution_count": 41,
   "metadata": {},
   "outputs": [
    {
     "name": "stdout",
     "output_type": "stream",
     "text": [
      "Data sebelum perubahan:\n",
      "   PassengerId  Survived  Pclass  \\\n",
      "0            1         0       3   \n",
      "1            2         1       1   \n",
      "2            3         1       3   \n",
      "3            4         1       1   \n",
      "4            5         0       3   \n",
      "\n",
      "                                                Name     Sex   Age  SibSp  \\\n",
      "0                            Braund, Mr. Owen Harris    male  22.0      1   \n",
      "1  Cumings, Mrs. John Bradley (Florence Briggs Th...  female  38.0      1   \n",
      "2                             Heikkinen, Miss. Laina  female  26.0      0   \n",
      "3       Futrelle, Mrs. Jacques Heath (Lily May Peel)  female  35.0      1   \n",
      "4                           Allen, Mr. William Henry    male  35.0      0   \n",
      "\n",
      "   Parch            Ticket     Fare Cabin Embarked  \n",
      "0      0         A/5 21171   7.2500   NaN        S  \n",
      "1      0          PC 17599  71.2833   C85        C  \n",
      "2      0  STON/O2. 3101282   7.9250   NaN        S  \n",
      "3      0            113803  53.1000  C123        S  \n",
      "4      0            373450   8.0500   NaN        S  \n",
      "\n",
      "Data setelah perubahan:\n",
      "    PassengerId  Survived  Pclass  \\\n",
      "1             2         1       1   \n",
      "3             4         1       1   \n",
      "6             7         0       1   \n",
      "10           11         1       3   \n",
      "11           12         1       1   \n",
      "\n",
      "                                                 Name     Sex   Age  SibSp  \\\n",
      "1   Cumings, Mrs. John Bradley (Florence Briggs Th...  female  38.0      1   \n",
      "3        Futrelle, Mrs. Jacques Heath (Lily May Peel)  female  35.0      1   \n",
      "6                             McCarthy, Mr. Timothy J    male  54.0      0   \n",
      "10                    Sandstrom, Miss. Marguerite Rut  female   4.0      1   \n",
      "11                           Bonnell, Miss. Elizabeth  female  58.0      0   \n",
      "\n",
      "    Parch    Ticket     Fare Cabin Embarked  \n",
      "1       0  PC 17599  71.2833   C85        C  \n",
      "3       0    113803  53.1000  C123        S  \n",
      "6       0     17463  51.8625   E46        S  \n",
      "10      1   PP 9549  16.7000    G6        S  \n",
      "11      0    113783  26.5500  C103        S  \n"
     ]
    }
   ],
   "source": [
    "print(\"Data sebelum perubahan:\")\n",
    "print(df.head())\n",
    "\n",
    "df_dropna = df.dropna()\n",
    "\n",
    "print(\"\\nData setelah perubahan:\")\n",
    "print(df_dropna.head())"
   ]
  },
  {
   "cell_type": "code",
   "execution_count": 42,
   "metadata": {},
   "outputs": [
    {
     "name": "stdout",
     "output_type": "stream",
     "text": [
      "Data sebelum perubahan:\n",
      "                             Name     Sex   Age Cabin Embarked\n",
      "0         Braund, Mr. Owen Harris    male  22.0   NaN        S\n",
      "2          Heikkinen, Miss. Laina  female  26.0   NaN        S\n",
      "4        Allen, Mr. William Henry    male  35.0   NaN        S\n",
      "5                Moran, Mr. James    male   NaN   NaN        Q\n",
      "7  Palsson, Master. Gosta Leonard    male   2.0   NaN        S\n",
      "\n",
      "Data setelah perubahan:\n",
      "                             Name     Sex        Age Cabin Embarked\n",
      "0         Braund, Mr. Owen Harris    male  22.000000   NaN        S\n",
      "2          Heikkinen, Miss. Laina  female  26.000000   NaN        S\n",
      "4        Allen, Mr. William Henry    male  35.000000   NaN        S\n",
      "5                Moran, Mr. James    male  29.699118   NaN        Q\n",
      "7  Palsson, Master. Gosta Leonard    male   2.000000   NaN        S\n"
     ]
    },
    {
     "name": "stderr",
     "output_type": "stream",
     "text": [
      "C:\\Users\\user\\AppData\\Local\\Temp\\ipykernel_4512\\3543451637.py:5: FutureWarning: A value is trying to be set on a copy of a DataFrame or Series through chained assignment using an inplace method.\n",
      "The behavior will change in pandas 3.0. This inplace method will never work because the intermediate object on which we are setting values always behaves as a copy.\n",
      "\n",
      "For example, when doing 'df[col].method(value, inplace=True)', try using 'df.method({col: value}, inplace=True)' or df[col] = df[col].method(value) instead, to perform the operation inplace on the original object.\n",
      "\n",
      "\n",
      "  df_age_mean[\"Age\"].fillna(df_age_mean[\"Age\"].mean(), inplace=True)\n"
     ]
    }
   ],
   "source": [
    "print(\"Data sebelum perubahan:\")\n",
    "print(df_with_nan[['Name', 'Sex', 'Age', 'Cabin', 'Embarked']].head())\n",
    "\n",
    "df_age_mean = df.copy()\n",
    "df_age_mean[\"Age\"].fillna(df_age_mean[\"Age\"].mean(), inplace=True)\n",
    "\n",
    "df_age_updated = df_age_mean.loc[df_with_nan.index, ['Name', 'Sex', 'Age', 'Cabin', 'Embarked']]\n",
    "print(\"\\nData setelah perubahan:\")\n",
    "print(df_age_updated.head())\n"
   ]
  },
  {
   "cell_type": "code",
   "execution_count": 43,
   "metadata": {},
   "outputs": [],
   "source": [
    "df_age_mean.to_excel(\"titanic_cleaned.xlsx\", index=False)"
   ]
  },
  {
   "cell_type": "code",
   "execution_count": 44,
   "metadata": {},
   "outputs": [
    {
     "data": {
      "text/html": [
       "<div>\n",
       "<style scoped>\n",
       "    .dataframe tbody tr th:only-of-type {\n",
       "        vertical-align: middle;\n",
       "    }\n",
       "\n",
       "    .dataframe tbody tr th {\n",
       "        vertical-align: top;\n",
       "    }\n",
       "\n",
       "    .dataframe thead th {\n",
       "        text-align: right;\n",
       "    }\n",
       "</style>\n",
       "<table border=\"1\" class=\"dataframe\">\n",
       "  <thead>\n",
       "    <tr style=\"text-align: right;\">\n",
       "      <th></th>\n",
       "      <th>Opsi Pengiriman</th>\n",
       "      <th>Waktu Pengiriman Diatur</th>\n",
       "      <th>Waktu Pesanan Dibuat</th>\n",
       "      <th>Metode Pembayaran</th>\n",
       "      <th>Nama Produk</th>\n",
       "      <th>Nama Variasi</th>\n",
       "      <th>Harga Awal</th>\n",
       "      <th>Harga Setelah Diskon</th>\n",
       "      <th>Jumlah</th>\n",
       "      <th>Total Harga Produk</th>\n",
       "      <th>Jumlah Produk di Pesan</th>\n",
       "      <th>Total Pembayaran</th>\n",
       "      <th>Username (Pembeli)</th>\n",
       "      <th>Kota/Kabupaten</th>\n",
       "      <th>Provinsi</th>\n",
       "      <th>Waktu Pesanan Selesai</th>\n",
       "    </tr>\n",
       "  </thead>\n",
       "  <tbody>\n",
       "    <tr>\n",
       "      <th>0</th>\n",
       "      <td>Hemat-SPX Hemat</td>\n",
       "      <td>2025-02-04 19:34</td>\n",
       "      <td>2025-02-04 05:27</td>\n",
       "      <td>COD (Bayar di Tempat)</td>\n",
       "      <td>Sarung Tenun Dewasa Aljabar Guci</td>\n",
       "      <td>Jabar Guci Gold,Plastik</td>\n",
       "      <td>34.0</td>\n",
       "      <td>34.0</td>\n",
       "      <td>1</td>\n",
       "      <td>34.000</td>\n",
       "      <td>1</td>\n",
       "      <td>35.840</td>\n",
       "      <td>nirwantyangela</td>\n",
       "      <td>KOTA CIMAHI</td>\n",
       "      <td>JAWA BARAT</td>\n",
       "      <td>2025-02-05 18:55</td>\n",
       "    </tr>\n",
       "    <tr>\n",
       "      <th>1</th>\n",
       "      <td>Reguler (Cashless)-SPX Standard</td>\n",
       "      <td>2025-02-04 20:37</td>\n",
       "      <td>2025-02-04 05:08</td>\n",
       "      <td>COD (Bayar di Tempat)</td>\n",
       "      <td>Sarung Dewasa Motif Songket Travel Mini Pouch ...</td>\n",
       "      <td>Jbr Guci Gold MP</td>\n",
       "      <td>41.0</td>\n",
       "      <td>41.0</td>\n",
       "      <td>1</td>\n",
       "      <td>41.000</td>\n",
       "      <td>1</td>\n",
       "      <td>43.640</td>\n",
       "      <td>kusmana1972</td>\n",
       "      <td>KAB. GARUT</td>\n",
       "      <td>JAWA BARAT</td>\n",
       "      <td>2025-02-06 10:17</td>\n",
       "    </tr>\n",
       "    <tr>\n",
       "      <th>2</th>\n",
       "      <td>Hemat-SPX Hemat</td>\n",
       "      <td>2025-02-04 19:34</td>\n",
       "      <td>2025-02-04 11:19</td>\n",
       "      <td>Online Payment</td>\n",
       "      <td>Sarung Songket Modern Sarung Premium Sarung De...</td>\n",
       "      <td>Jabar Moza Nw Merah,Dus</td>\n",
       "      <td>34.5</td>\n",
       "      <td>34.5</td>\n",
       "      <td>1</td>\n",
       "      <td>34.500</td>\n",
       "      <td>1</td>\n",
       "      <td>37.000</td>\n",
       "      <td>tia.natiah</td>\n",
       "      <td>KAB. PANDEGLANG</td>\n",
       "      <td>BANTEN</td>\n",
       "      <td>2025-02-06 14:47</td>\n",
       "    </tr>\n",
       "    <tr>\n",
       "      <th>3</th>\n",
       "      <td>Hemat-SPX Hemat</td>\n",
       "      <td>2025-02-04 19:34</td>\n",
       "      <td>2025-02-04 07:28</td>\n",
       "      <td>COD (Bayar di Tempat)</td>\n",
       "      <td>Sarung Tenun Songket Kemasan Pouch Travel Wate...</td>\n",
       "      <td>Jbr Grey Merah TR-K</td>\n",
       "      <td>39.5</td>\n",
       "      <td>39.5</td>\n",
       "      <td>1</td>\n",
       "      <td>39.500</td>\n",
       "      <td>1</td>\n",
       "      <td>42.080</td>\n",
       "      <td>fitri.raptor</td>\n",
       "      <td>KAB. WONOGIRI</td>\n",
       "      <td>JAWA TENGAH</td>\n",
       "      <td>2025-02-06 17:07</td>\n",
       "    </tr>\n",
       "    <tr>\n",
       "      <th>4</th>\n",
       "      <td>Reguler (Cashless)-SPX Standard</td>\n",
       "      <td>2025-02-04 19:34</td>\n",
       "      <td>2025-02-04 02:53</td>\n",
       "      <td>Online Payment</td>\n",
       "      <td>Sarung Anak Laki Laki Usia 4-12 Tahun Al Jabar...</td>\n",
       "      <td>SA Sabuk Abu,Dus</td>\n",
       "      <td>28.0</td>\n",
       "      <td>28.0</td>\n",
       "      <td>1</td>\n",
       "      <td>28.000</td>\n",
       "      <td>1</td>\n",
       "      <td>27.024</td>\n",
       "      <td>zemo_collection</td>\n",
       "      <td>KAB. TANGERANG</td>\n",
       "      <td>BANTEN</td>\n",
       "      <td>2025-02-06 18:00</td>\n",
       "    </tr>\n",
       "  </tbody>\n",
       "</table>\n",
       "</div>"
      ],
      "text/plain": [
       "                   Opsi Pengiriman Waktu Pengiriman Diatur  \\\n",
       "0                  Hemat-SPX Hemat        2025-02-04 19:34   \n",
       "1  Reguler (Cashless)-SPX Standard        2025-02-04 20:37   \n",
       "2                  Hemat-SPX Hemat        2025-02-04 19:34   \n",
       "3                  Hemat-SPX Hemat        2025-02-04 19:34   \n",
       "4  Reguler (Cashless)-SPX Standard        2025-02-04 19:34   \n",
       "\n",
       "  Waktu Pesanan Dibuat      Metode Pembayaran  \\\n",
       "0     2025-02-04 05:27  COD (Bayar di Tempat)   \n",
       "1     2025-02-04 05:08  COD (Bayar di Tempat)   \n",
       "2     2025-02-04 11:19         Online Payment   \n",
       "3     2025-02-04 07:28  COD (Bayar di Tempat)   \n",
       "4     2025-02-04 02:53         Online Payment   \n",
       "\n",
       "                                         Nama Produk             Nama Variasi  \\\n",
       "0                   Sarung Tenun Dewasa Aljabar Guci  Jabar Guci Gold,Plastik   \n",
       "1  Sarung Dewasa Motif Songket Travel Mini Pouch ...         Jbr Guci Gold MP   \n",
       "2  Sarung Songket Modern Sarung Premium Sarung De...  Jabar Moza Nw Merah,Dus   \n",
       "3  Sarung Tenun Songket Kemasan Pouch Travel Wate...      Jbr Grey Merah TR-K   \n",
       "4  Sarung Anak Laki Laki Usia 4-12 Tahun Al Jabar...         SA Sabuk Abu,Dus   \n",
       "\n",
       "   Harga Awal  Harga Setelah Diskon  Jumlah Total Harga Produk  \\\n",
       "0        34.0                  34.0       1             34.000   \n",
       "1        41.0                  41.0       1             41.000   \n",
       "2        34.5                  34.5       1             34.500   \n",
       "3        39.5                  39.5       1             39.500   \n",
       "4        28.0                  28.0       1             28.000   \n",
       "\n",
       "   Jumlah Produk di Pesan Total Pembayaran Username (Pembeli)  \\\n",
       "0                       1           35.840     nirwantyangela   \n",
       "1                       1           43.640        kusmana1972   \n",
       "2                       1           37.000         tia.natiah   \n",
       "3                       1           42.080       fitri.raptor   \n",
       "4                       1           27.024    zemo_collection   \n",
       "\n",
       "    Kota/Kabupaten     Provinsi Waktu Pesanan Selesai  \n",
       "0      KOTA CIMAHI   JAWA BARAT      2025-02-05 18:55  \n",
       "1       KAB. GARUT   JAWA BARAT      2025-02-06 10:17  \n",
       "2  KAB. PANDEGLANG       BANTEN      2025-02-06 14:47  \n",
       "3    KAB. WONOGIRI  JAWA TENGAH      2025-02-06 17:07  \n",
       "4   KAB. TANGERANG       BANTEN      2025-02-06 18:00  "
      ]
     },
     "execution_count": 44,
     "metadata": {},
     "output_type": "execute_result"
    }
   ],
   "source": [
    "import pandas as pd\n",
    "\n",
    "df = pd.read_excel(\"dataset_sarung.xlsx\")\n",
    "df.head()"
   ]
  },
  {
   "cell_type": "code",
   "execution_count": 45,
   "metadata": {},
   "outputs": [],
   "source": [
    "from sklearn.preprocessing import LabelEncoder\n",
    "\n",
    "labelencoder = LabelEncoder()\n",
    "\n",
    "df[\"labelproduk\"] = labelencoder.fit_transform(df[\"Nama Produk\"])"
   ]
  },
  {
   "cell_type": "code",
   "execution_count": 46,
   "metadata": {},
   "outputs": [
    {
     "name": "stdout",
     "output_type": "stream",
     "text": [
      "                                            Nama Produk  labelproduk\n",
      "0                      Sarung Tenun Dewasa Aljabar Guci           43\n",
      "1     Sarung Dewasa Motif Songket Travel Mini Pouch ...           38\n",
      "2     Sarung Songket Modern Sarung Premium Sarung De...           42\n",
      "3     Sarung Tenun Songket Kemasan Pouch Travel Wate...           45\n",
      "4     Sarung Anak Laki Laki Usia 4-12 Tahun Al Jabar...           32\n",
      "...                                                 ...          ...\n",
      "3885  [COD] Sarung Dewasa Sarung Motif Songket Simpl...           51\n",
      "3886  [COD] Sarung Dewasa Sarung Motif Songket Simpl...           51\n",
      "3887  [COD] Sarung Dewasa Sarung Motif Songket Simpl...           51\n",
      "3888  [COD] Sarung Dewasa Sarung Motif Songket Simpl...           51\n",
      "3889  Sarkoci Anak Sarung Koko Peci Anak Usia 1-14 T...           28\n",
      "\n",
      "[3890 rows x 2 columns]\n"
     ]
    }
   ],
   "source": [
    "df_subset = df[[\"Nama Produk\", \"labelproduk\"]]\n",
    "print(df_subset)"
   ]
  },
  {
   "cell_type": "code",
   "execution_count": 47,
   "metadata": {},
   "outputs": [
    {
     "data": {
      "image/png": "[encoded data removed]",
      "text/plain": [
       "<Figure size 640x480 with 1 Axes>"
      ]
     },
     "metadata": {},
     "output_type": "display_data"
    }
   ],
   "source": [
    "import matplotlib.pyplot as plt\n",
    "\n",
    "fig, ax = plt.subplots() \n",
    "ax.boxplot(df[\"Harga Setelah Diskon\"]) \n",
    "plt.show()"
   ]
  },
  {
   "cell_type": "code",
   "execution_count": 27,
   "metadata": {},
   "outputs": [
    {
     "data": {
      "text/html": [
       "<div>\n",
       "<style scoped>\n",
       "    .dataframe tbody tr th:only-of-type {\n",
       "        vertical-align: middle;\n",
       "    }\n",
       "\n",
       "    .dataframe tbody tr th {\n",
       "        vertical-align: top;\n",
       "    }\n",
       "\n",
       "    .dataframe thead th {\n",
       "        text-align: right;\n",
       "    }\n",
       "</style>\n",
       "<table border=\"1\" class=\"dataframe\">\n",
       "  <thead>\n",
       "    <tr style=\"text-align: right;\">\n",
       "      <th></th>\n",
       "      <th>Opsi Pengiriman</th>\n",
       "      <th>Waktu Pengiriman Diatur</th>\n",
       "      <th>Waktu Pesanan Dibuat</th>\n",
       "      <th>Metode Pembayaran</th>\n",
       "      <th>Nama Produk</th>\n",
       "      <th>Nama Variasi</th>\n",
       "      <th>Harga Awal</th>\n",
       "      <th>Harga Setelah Diskon</th>\n",
       "      <th>Jumlah</th>\n",
       "      <th>Total Harga Produk</th>\n",
       "      <th>Jumlah Produk di Pesan</th>\n",
       "      <th>Total Pembayaran</th>\n",
       "      <th>Username (Pembeli)</th>\n",
       "      <th>Kota/Kabupaten</th>\n",
       "      <th>Provinsi</th>\n",
       "      <th>Waktu Pesanan Selesai</th>\n",
       "      <th>labelproduk</th>\n",
       "    </tr>\n",
       "  </thead>\n",
       "  <tbody>\n",
       "    <tr>\n",
       "      <th>304</th>\n",
       "      <td>Hemat-SPX Hemat</td>\n",
       "      <td>2025-02-06 18:11</td>\n",
       "      <td>2025-02-06 11:22</td>\n",
       "      <td>Online Payment</td>\n",
       "      <td>Sarkoci Anak Sarung Koko Peci Anak Usia 1-14 T...</td>\n",
       "      <td>Skt New Merah,5-6 Th ( L )</td>\n",
       "      <td>52.0</td>\n",
       "      <td>52.0</td>\n",
       "      <td>1</td>\n",
       "      <td>52.000</td>\n",
       "      <td>1</td>\n",
       "      <td>53.153</td>\n",
       "      <td>NaN</td>\n",
       "      <td>KAB. BEKASI</td>\n",
       "      <td>JAWA BARAT</td>\n",
       "      <td>2025-02-11 05:16</td>\n",
       "      <td>28</td>\n",
       "    </tr>\n",
       "    <tr>\n",
       "      <th>622</th>\n",
       "      <td>Hemat-SPX Hemat</td>\n",
       "      <td>2025-02-08 19:03</td>\n",
       "      <td>2025-02-08 08:21</td>\n",
       "      <td>ShopeePay</td>\n",
       "      <td>Tas Sarung Mini Travel Anti air</td>\n",
       "      <td>NaN</td>\n",
       "      <td>10.0</td>\n",
       "      <td>10.0</td>\n",
       "      <td>1</td>\n",
       "      <td>10.000</td>\n",
       "      <td>2</td>\n",
       "      <td>64.400</td>\n",
       "      <td>belidinet</td>\n",
       "      <td>KAB. BANJAR</td>\n",
       "      <td>KALIMANTAN SELATAN</td>\n",
       "      <td>2025-02-13 14:57</td>\n",
       "      <td>49</td>\n",
       "    </tr>\n",
       "    <tr>\n",
       "      <th>931</th>\n",
       "      <td>Hemat-SPX Hemat</td>\n",
       "      <td>2025-02-11 19:00</td>\n",
       "      <td>2025-02-10 20:39</td>\n",
       "      <td>SPayLater</td>\n",
       "      <td>Tas Sarung Mini Travel Anti air</td>\n",
       "      <td>NaN</td>\n",
       "      <td>10.0</td>\n",
       "      <td>10.0</td>\n",
       "      <td>1</td>\n",
       "      <td>10.000</td>\n",
       "      <td>8</td>\n",
       "      <td>300.573</td>\n",
       "      <td>pdpc7oei4m</td>\n",
       "      <td>KAB. BANYUMAS</td>\n",
       "      <td>JAWA TENGAH</td>\n",
       "      <td>2025-02-16 03:39</td>\n",
       "      <td>49</td>\n",
       "    </tr>\n",
       "    <tr>\n",
       "      <th>1926</th>\n",
       "      <td>Hemat-SPX Hemat</td>\n",
       "      <td>2025-02-22 18:08</td>\n",
       "      <td>2025-02-22 13:33</td>\n",
       "      <td>Online Payment</td>\n",
       "      <td>Tas Sarung Mini Travel Anti air</td>\n",
       "      <td>NaN</td>\n",
       "      <td>10.0</td>\n",
       "      <td>10.0</td>\n",
       "      <td>1</td>\n",
       "      <td>10.000</td>\n",
       "      <td>6</td>\n",
       "      <td>140.305</td>\n",
       "      <td>ypid38fsso</td>\n",
       "      <td>KOTA TANGERANG</td>\n",
       "      <td>BANTEN</td>\n",
       "      <td>2025-02-23 21:25</td>\n",
       "      <td>49</td>\n",
       "    </tr>\n",
       "    <tr>\n",
       "      <th>2136</th>\n",
       "      <td>Hemat-SPX Hemat</td>\n",
       "      <td>2025-02-20 18:24</td>\n",
       "      <td>2025-02-20 09:06</td>\n",
       "      <td>Online Payment</td>\n",
       "      <td>[COD] Sarung Dewasa Sarung Motif Songket Simpl...</td>\n",
       "      <td>Jabar GS Putih,Dus</td>\n",
       "      <td>33.5</td>\n",
       "      <td>33.5</td>\n",
       "      <td>1</td>\n",
       "      <td>33.500</td>\n",
       "      <td>1</td>\n",
       "      <td>35.500</td>\n",
       "      <td>NaN</td>\n",
       "      <td>KAB. JEPARA</td>\n",
       "      <td>JAWA TENGAH</td>\n",
       "      <td>2025-02-25 03:51</td>\n",
       "      <td>51</td>\n",
       "    </tr>\n",
       "    <tr>\n",
       "      <th>2255</th>\n",
       "      <td>Reguler (Cashless)-SPX Standard</td>\n",
       "      <td>2025-02-21 17:48</td>\n",
       "      <td>2025-02-21 09:59</td>\n",
       "      <td>Online Payment</td>\n",
       "      <td>Tas Sarung Mini Travel Anti air</td>\n",
       "      <td>NaN</td>\n",
       "      <td>10.0</td>\n",
       "      <td>10.0</td>\n",
       "      <td>1</td>\n",
       "      <td>10.000</td>\n",
       "      <td>2</td>\n",
       "      <td>45.330</td>\n",
       "      <td>viet.indri</td>\n",
       "      <td>KOTA TANGERANG</td>\n",
       "      <td>BANTEN</td>\n",
       "      <td>2025-02-26 03:44</td>\n",
       "      <td>49</td>\n",
       "    </tr>\n",
       "  </tbody>\n",
       "</table>\n",
       "</div>"
      ],
      "text/plain": [
       "                      Opsi Pengiriman Waktu Pengiriman Diatur  \\\n",
       "304                   Hemat-SPX Hemat        2025-02-06 18:11   \n",
       "622                   Hemat-SPX Hemat        2025-02-08 19:03   \n",
       "931                   Hemat-SPX Hemat        2025-02-11 19:00   \n",
       "1926                  Hemat-SPX Hemat        2025-02-22 18:08   \n",
       "2136                  Hemat-SPX Hemat        2025-02-20 18:24   \n",
       "2255  Reguler (Cashless)-SPX Standard        2025-02-21 17:48   \n",
       "\n",
       "     Waktu Pesanan Dibuat Metode Pembayaran  \\\n",
       "304      2025-02-06 11:22    Online Payment   \n",
       "622      2025-02-08 08:21         ShopeePay   \n",
       "931      2025-02-10 20:39         SPayLater   \n",
       "1926     2025-02-22 13:33    Online Payment   \n",
       "2136     2025-02-20 09:06    Online Payment   \n",
       "2255     2025-02-21 09:59    Online Payment   \n",
       "\n",
       "                                            Nama Produk  \\\n",
       "304   Sarkoci Anak Sarung Koko Peci Anak Usia 1-14 T...   \n",
       "622                     Tas Sarung Mini Travel Anti air   \n",
       "931                     Tas Sarung Mini Travel Anti air   \n",
       "1926                    Tas Sarung Mini Travel Anti air   \n",
       "2136  [COD] Sarung Dewasa Sarung Motif Songket Simpl...   \n",
       "2255                    Tas Sarung Mini Travel Anti air   \n",
       "\n",
       "                    Nama Variasi  Harga Awal  Harga Setelah Diskon  Jumlah  \\\n",
       "304   Skt New Merah,5-6 Th ( L )        52.0                  52.0       1   \n",
       "622                          NaN        10.0                  10.0       1   \n",
       "931                          NaN        10.0                  10.0       1   \n",
       "1926                         NaN        10.0                  10.0       1   \n",
       "2136          Jabar GS Putih,Dus        33.5                  33.5       1   \n",
       "2255                         NaN        10.0                  10.0       1   \n",
       "\n",
       "     Total Harga Produk  Jumlah Produk di Pesan Total Pembayaran  \\\n",
       "304              52.000                       1           53.153   \n",
       "622              10.000                       2           64.400   \n",
       "931              10.000                       8          300.573   \n",
       "1926             10.000                       6          140.305   \n",
       "2136             33.500                       1           35.500   \n",
       "2255             10.000                       2           45.330   \n",
       "\n",
       "     Username (Pembeli)  Kota/Kabupaten            Provinsi  \\\n",
       "304                 NaN     KAB. BEKASI          JAWA BARAT   \n",
       "622           belidinet     KAB. BANJAR  KALIMANTAN SELATAN   \n",
       "931          pdpc7oei4m   KAB. BANYUMAS         JAWA TENGAH   \n",
       "1926         ypid38fsso  KOTA TANGERANG              BANTEN   \n",
       "2136                NaN     KAB. JEPARA         JAWA TENGAH   \n",
       "2255         viet.indri  KOTA TANGERANG              BANTEN   \n",
       "\n",
       "     Waktu Pesanan Selesai  labelproduk  \n",
       "304       2025-02-11 05:16           28  \n",
       "622       2025-02-13 14:57           49  \n",
       "931       2025-02-16 03:39           49  \n",
       "1926      2025-02-23 21:25           49  \n",
       "2136      2025-02-25 03:51           51  \n",
       "2255      2025-02-26 03:44           49  "
      ]
     },
     "execution_count": 27,
     "metadata": {},
     "output_type": "execute_result"
    }
   ],
   "source": [
    "df[df.isnull().any(axis=1)]"
   ]
  },
  {
   "cell_type": "code",
   "execution_count": 28,
   "metadata": {},
   "outputs": [],
   "source": [
    "df = df.dropna()"
   ]
  },
  {
   "cell_type": "code",
   "execution_count": 30,
   "metadata": {},
   "outputs": [
    {
     "data": {
      "text/html": [
       "<div>\n",
       "<style scoped>\n",
       "    .dataframe tbody tr th:only-of-type {\n",
       "        vertical-align: middle;\n",
       "    }\n",
       "\n",
       "    .dataframe tbody tr th {\n",
       "        vertical-align: top;\n",
       "    }\n",
       "\n",
       "    .dataframe thead th {\n",
       "        text-align: right;\n",
       "    }\n",
       "</style>\n",
       "<table border=\"1\" class=\"dataframe\">\n",
       "  <thead>\n",
       "    <tr style=\"text-align: right;\">\n",
       "      <th></th>\n",
       "      <th>Opsi Pengiriman</th>\n",
       "      <th>Waktu Pengiriman Diatur</th>\n",
       "      <th>Waktu Pesanan Dibuat</th>\n",
       "      <th>Metode Pembayaran</th>\n",
       "      <th>Nama Produk</th>\n",
       "      <th>Nama Variasi</th>\n",
       "      <th>Harga Awal</th>\n",
       "      <th>Harga Setelah Diskon</th>\n",
       "      <th>Jumlah</th>\n",
       "      <th>Total Harga Produk</th>\n",
       "      <th>Jumlah Produk di Pesan</th>\n",
       "      <th>Total Pembayaran</th>\n",
       "      <th>Username (Pembeli)</th>\n",
       "      <th>Kota/Kabupaten</th>\n",
       "      <th>Provinsi</th>\n",
       "      <th>Waktu Pesanan Selesai</th>\n",
       "      <th>labelproduk</th>\n",
       "    </tr>\n",
       "  </thead>\n",
       "  <tbody>\n",
       "  </tbody>\n",
       "</table>\n",
       "</div>"
      ],
      "text/plain": [
       "Empty DataFrame\n",
       "Columns: [Opsi Pengiriman, Waktu Pengiriman Diatur, Waktu Pesanan Dibuat, Metode Pembayaran, Nama Produk, Nama Variasi, Harga Awal, Harga Setelah Diskon, Jumlah, Total Harga Produk, Jumlah Produk di Pesan, Total Pembayaran, Username (Pembeli), Kota/Kabupaten, Provinsi, Waktu Pesanan Selesai, labelproduk]\n",
       "Index: []"
      ]
     },
     "execution_count": 30,
     "metadata": {},
     "output_type": "execute_result"
    }
   ],
   "source": [
    "df[df.isnull().any(axis=1)]"
   ]
  },
  {
   "cell_type": "code",
   "execution_count": null,
   "metadata": {},
   "outputs": [],
   "source": []
  }
 ],
 "metadata": {
  "kernelspec": {
   "display_name": "Python 3",
   "language": "python",
   "name": "python3"
  },
  "language_info": {
   "codemirror_mode": {
    "name": "ipython",
    "version": 3
   },
   "file_extension": ".py",
   "mimetype": "text/x-python",
   "name": "python",
   "nbconvert_exporter": "python",
   "pygments_lexer": "ipython3",
   "version": "3.13.2"
  }
 },
 "nbformat": 4,
 "nbformat_minor": 2
}
