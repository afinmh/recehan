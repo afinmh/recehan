{
 "cells": [
  {
   "cell_type": "code",
   "execution_count": 81,
   "metadata": {},
   "outputs": [
    {
     "name": "stdout",
     "output_type": "stream",
     "text": [
      "[1, 7, 2]\n",
      "<class 'list'>\n",
      "<class 'pandas.core.series.Series'>\n",
      "int64\n",
      "1\n",
      "2\n",
      "7\n",
      "Data series\n",
      "0    1\n",
      "1    7\n",
      "2    2\n",
      "dtype: int64\n"
     ]
    }
   ],
   "source": [
    "import pandas as pd \n",
    "\n",
    "data = [1, 7, 2] \n",
    "print(data) \n",
    "print(type(data)) \n",
    "  \n",
    "my_series = pd.Series(data) \n",
    "print(type(my_series)) \n",
    "print(my_series.dtype) \n",
    "print(my_series[0]) \n",
    "print(my_series[2]) \n",
    "print(my_series[1]) \n",
    "print('Data series') \n",
    "print(my_series)"
   ]
  },
  {
   "cell_type": "code",
   "execution_count": 82,
   "metadata": {},
   "outputs": [
    {
     "name": "stdout",
     "output_type": "stream",
     "text": [
      "['afin' 'panji' 'zufar']\n",
      "0     afin\n",
      "1    panji\n",
      "2    zufar\n",
      "dtype: object\n"
     ]
    }
   ],
   "source": [
    "import pandas as pd\n",
    "import numpy as np\n",
    "\n",
    "data = np.array([\"afin\", \"panji\", \"zufar\"])\n",
    "print(data)\n",
    "series = pd.Series(data)\n",
    "print(series)"
   ]
  },
  {
   "cell_type": "code",
   "execution_count": 3,
   "metadata": {},
   "outputs": [
    {
     "name": "stdout",
     "output_type": "stream",
     "text": [
      "Ketua       afin\n",
      "Wakil      panji\n",
      "Anggota    zufar\n",
      "dtype: object\n"
     ]
    }
   ],
   "source": [
    "s2 = pd.Series(data=data, index=[\"Ketua\", \"Wakil\", \"Anggota\"])\n",
    "print(s2)"
   ]
  },
  {
   "cell_type": "code",
   "execution_count": 83,
   "metadata": {},
   "outputs": [
    {
     "name": "stdout",
     "output_type": "stream",
     "text": [
      "['Afin', 20000, 'Aman']\n",
      "Nama       Afin\n",
      "Saldo     20000\n",
      "Status     Aman\n",
      "dtype: object\n"
     ]
    }
   ],
   "source": [
    "data = [\"Afin\", 20000, \"Aman\"]\n",
    "print(data)\n",
    "s2 = pd.Series(data=data, index=[\"Nama\", \"Saldo\", \"Status\"])\n",
    "print(s2)"
   ]
  },
  {
   "cell_type": "code",
   "execution_count": 84,
   "metadata": {},
   "outputs": [
    {
     "name": "stdout",
     "output_type": "stream",
     "text": [
      "Nama      Afin\n",
      "Umur        20\n",
      "Status    Aman\n",
      "dtype: object\n"
     ]
    }
   ],
   "source": [
    "data = {\"Nama\": \"Afin\", \"Umur\": 20, \"Status\": \"Aman\"}\n",
    "s2 = pd.Series(data=data)\n",
    "print(s2)"
   ]
  },
  {
   "cell_type": "code",
   "execution_count": 87,
   "metadata": {},
   "outputs": [
    {
     "name": "stdout",
     "output_type": "stream",
     "text": [
      "Nama      Afin\n",
      "Status    Aman\n",
      "Umur        20\n",
      "dtype: object\n",
      "Data pertama adalah :  Afin\n",
      "Data Kedua adalah :  Aman\n"
     ]
    },
    {
     "name": "stderr",
     "output_type": "stream",
     "text": [
      "C:\\Users\\user\\AppData\\Local\\Temp\\ipykernel_1396\\1643641849.py:3: FutureWarning: Series.__getitem__ treating keys as positions is deprecated. In a future version, integer keys will always be treated as labels (consistent with DataFrame behavior). To access a value by position, use `ser.iloc[pos]`\n",
      "  print(\"Data pertama adalah : \", s[0])\n",
      "C:\\Users\\user\\AppData\\Local\\Temp\\ipykernel_1396\\1643641849.py:4: FutureWarning: Series.__getitem__ treating keys as positions is deprecated. In a future version, integer keys will always be treated as labels (consistent with DataFrame behavior). To access a value by position, use `ser.iloc[pos]`\n",
      "  print(\"Data Kedua adalah : \", s[1])\n"
     ]
    }
   ],
   "source": [
    "s = pd.Series(data=data, index=[\"Nama\", \"Status\", \"Umur\"])\n",
    "print(s)\n",
    "print(\"Data pertama adalah : \", s[0])\n",
    "print(\"Data Kedua adalah : \", s[1])"
   ]
  },
  {
   "cell_type": "code",
   "execution_count": 89,
   "metadata": {},
   "outputs": [
    {
     "name": "stdout",
     "output_type": "stream",
     "text": [
      "    Nama  Usia\n",
      "0   Afin    20\n",
      "1  Panji    21\n",
      "2  Zufar    22\n",
      "0    20\n",
      "1    21\n",
      "2    22\n",
      "Name: Usia, dtype: int64\n"
     ]
    }
   ],
   "source": [
    "df = pd.DataFrame(\n",
    "    {\n",
    "        \"Nama\" : [\"Afin\", \"Panji\", \"Zufar\"],\n",
    "        \"Usia\" : [20, 21, 22]\n",
    "    }\n",
    ")\n",
    "\n",
    "print(df)\n",
    "s = df[\"Usia\"].squeeze()\n",
    "print(s)"
   ]
  },
  {
   "cell_type": "code",
   "execution_count": 91,
   "metadata": {},
   "outputs": [
    {
     "name": "stdout",
     "output_type": "stream",
     "text": [
      "0     Afin\n",
      "1    Zufar\n",
      "2    Panji\n",
      "Name: Nama, dtype: object\n",
      "    Nama\n",
      "0   Afin\n",
      "1  Zufar\n",
      "2  Panji\n"
     ]
    }
   ],
   "source": [
    "nama = pd.Series([\"Afin\", \"Zufar\", \"Panji\"], name=\"Nama\")\n",
    "print(nama)\n",
    "df = pd.DataFrame(nama)\n",
    "print(df)"
   ]
  },
  {
   "cell_type": "code",
   "execution_count": 93,
   "metadata": {},
   "outputs": [
    {
     "name": "stdout",
     "output_type": "stream",
     "text": [
      "    Nama  Umur  Status\n",
      "0   Afin    20    Aman\n",
      "1  Zufar    21  Bahaya\n",
      "2  Panji    22  Bahaya\n"
     ]
    }
   ],
   "source": [
    "umur = pd.Series([20, 21, 22], name=\"Umur\")\n",
    "status = pd.Series([\"Aman\", \"Bahaya\", \"Bahaya\"], name=\"Status\")\n",
    "df = pd.concat([nama, umur, status], axis=1)\n",
    "\n",
    "print(df)"
   ]
  },
  {
   "cell_type": "code",
   "execution_count": 94,
   "metadata": {},
   "outputs": [
    {
     "name": "stdout",
     "output_type": "stream",
     "text": [
      "    0   1   2\n",
      "0  10  50  20\n"
     ]
    }
   ],
   "source": [
    "data = [-10, -50, 20]\n",
    "df = pd.DataFrame([data]).abs()\n",
    "print(df)"
   ]
  },
  {
   "cell_type": "code",
   "execution_count": 95,
   "metadata": {},
   "outputs": [
    {
     "name": "stdout",
     "output_type": "stream",
     "text": [
      "[-10, -50, 20]\n",
      "   0   1   2\n",
      "0  0 -40  30\n"
     ]
    }
   ],
   "source": [
    "print(data)\n",
    "df = pd.DataFrame([data]).add(10)\n",
    "print(df)"
   ]
  },
  {
   "cell_type": "code",
   "execution_count": 17,
   "metadata": {},
   "outputs": [
    {
     "name": "stdout",
     "output_type": "stream",
     "text": [
      "    0   1   2\n",
      "0  10  20   0\n",
      "1 -30 -40  50\n"
     ]
    }
   ],
   "source": [
    "import pandas as pd\n",
    "data1 = [10, 20, 0]\n",
    "data2 = [-30, -40, 50]\n",
    "\n",
    "df = pd.DataFrame([data1])\n",
    "df2 = pd.DataFrame([data2])\n",
    "df = pd.concat([df, df2], ignore_index=True)\n",
    "print(df)"
   ]
  },
  {
   "cell_type": "code",
   "execution_count": 25,
   "metadata": {},
   "outputs": [
    {
     "name": "stdout",
     "output_type": "stream",
     "text": [
      "0\n"
     ]
    }
   ],
   "source": [
    "data = 90,30,70\n",
    "df = pd.Series(data).argmax()\n",
    "print(df)"
   ]
  },
  {
   "cell_type": "code",
   "execution_count": 26,
   "metadata": {},
   "outputs": [
    {
     "name": "stdout",
     "output_type": "stream",
     "text": [
      "1\n"
     ]
    }
   ],
   "source": [
    "df = pd.Series(data).argmin()\n",
    "print(df)"
   ]
  },
  {
   "cell_type": "code",
   "execution_count": 28,
   "metadata": {},
   "outputs": [
    {
     "name": "stdout",
     "output_type": "stream",
     "text": [
      "(90, 30, 70)\n",
      "0    1\n",
      "1    2\n",
      "2    0\n",
      "dtype: int64\n"
     ]
    }
   ],
   "source": [
    "print(data)\n",
    "df = pd.Series(data).argsort()\n",
    "print(df)"
   ]
  },
  {
   "cell_type": "code",
   "execution_count": null,
   "metadata": {},
   "outputs": [
    {
     "name": "stdout",
     "output_type": "stream",
     "text": [
      "0    90\n",
      "1    30\n",
      "2    70\n",
      "dtype: int64\n"
     ]
    }
   ],
   "source": [
    "df = pd.Series(data).copy()\n",
    "print(df)"
   ]
  },
  {
   "cell_type": "code",
   "execution_count": 31,
   "metadata": {},
   "outputs": [
    {
     "name": "stdout",
     "output_type": "stream",
     "text": [
      "(90, 30, 70)\n",
      "3\n"
     ]
    }
   ],
   "source": [
    "print(data)\n",
    "df = pd.Series(data).count()\n",
    "print(df)"
   ]
  },
  {
   "cell_type": "code",
   "execution_count": 39,
   "metadata": {},
   "outputs": [
    {
     "name": "stdout",
     "output_type": "stream",
     "text": [
      "-50.0\n"
     ]
    }
   ],
   "source": [
    "import pandas as pd\n",
    "data1 = [10, 20, 0]\n",
    "data2 = [30, 40, 50]\n",
    "\n",
    "df = pd.Series(data1)\n",
    "df2 = pd.Series(data2)\n",
    "df3 = df.cov(df2)\n",
    "print(df3)"
   ]
  },
  {
   "cell_type": "code",
   "execution_count": null,
   "metadata": {},
   "outputs": [
    {
     "name": "stdout",
     "output_type": "stream",
     "text": [
      "0    0.333333\n",
      "1    0.500000\n",
      "2    0.000000\n",
      "dtype: float64\n"
     ]
    }
   ],
   "source": [
    "df3 = df.div(df2)\n",
    "print(df3)\n"
   ]
  },
  {
   "cell_type": "code",
   "execution_count": 42,
   "metadata": {},
   "outputs": [
    {
     "name": "stdout",
     "output_type": "stream",
     "text": [
      "0    10\n",
      "1    20\n",
      "2     0\n",
      "dtype: int64\n",
      "0    30\n",
      "1    40\n",
      "2    50\n",
      "dtype: int64\n",
      "1100\n"
     ]
    }
   ],
   "source": [
    "print(df)\n",
    "print(df2)\n",
    "df3 = df.dot(df2)\n",
    "print(df3)"
   ]
  },
  {
   "cell_type": "code",
   "execution_count": 98,
   "metadata": {},
   "outputs": [
    {
     "name": "stdout",
     "output_type": "stream",
     "text": [
      "Data Series:\n",
      "0    10.0\n",
      "1    20.0\n",
      "2    30.0\n",
      "3    40.0\n",
      "4    50.0\n",
      "5    20.0\n",
      "6    30.0\n",
      "7     NaN\n",
      "dtype: float64\n"
     ]
    }
   ],
   "source": [
    "data = pd.Series([10, 20, 30, 40, 50, 20, 30, None])\n",
    "print(\"Data Series:\")\n",
    "print(data)"
   ]
  },
  {
   "cell_type": "code",
   "execution_count": 99,
   "metadata": {},
   "outputs": [
    {
     "name": "stdout",
     "output_type": "stream",
     "text": [
      "0    10.0\n",
      "2    30.0\n",
      "3    40.0\n",
      "4    50.0\n",
      "5    20.0\n",
      "6    30.0\n",
      "7     NaN\n",
      "dtype: float64\n"
     ]
    }
   ],
   "source": [
    "data_drop = data.drop(labels=[1])\n",
    "print(data_drop)"
   ]
  },
  {
   "cell_type": "code",
   "execution_count": 100,
   "metadata": {},
   "outputs": [
    {
     "name": "stdout",
     "output_type": "stream",
     "text": [
      "0    10.0\n",
      "1    20.0\n",
      "2    30.0\n",
      "3    40.0\n",
      "4    50.0\n",
      "7     NaN\n",
      "dtype: float64\n"
     ]
    }
   ],
   "source": [
    "data_unique = data.drop_duplicates()\n",
    "print(data_unique)"
   ]
  },
  {
   "cell_type": "code",
   "execution_count": 49,
   "metadata": {},
   "outputs": [
    {
     "name": "stdout",
     "output_type": "stream",
     "text": [
      "0    10.0\n",
      "1    20.0\n",
      "2    30.0\n",
      "3    40.0\n",
      "4    50.0\n",
      "5    20.0\n",
      "6    30.0\n",
      "dtype: float64\n"
     ]
    }
   ],
   "source": [
    "data_no_na = data.dropna()\n",
    "print(data_no_na)"
   ]
  },
  {
   "cell_type": "code",
   "execution_count": 52,
   "metadata": {},
   "outputs": [
    {
     "name": "stdout",
     "output_type": "stream",
     "text": [
      "0    10.0\n",
      "1    20.0\n",
      "2    30.0\n",
      "3    40.0\n",
      "4    50.0\n",
      "5    20.0\n",
      "6    30.0\n",
      "7     NaN\n",
      "dtype: float64\n",
      "0    False\n",
      "1    False\n",
      "2    False\n",
      "3    False\n",
      "4    False\n",
      "5     True\n",
      "6     True\n",
      "7    False\n",
      "dtype: bool\n"
     ]
    }
   ],
   "source": [
    "print(data)\n",
    "print(data.duplicated())"
   ]
  },
  {
   "cell_type": "code",
   "execution_count": 53,
   "metadata": {},
   "outputs": [
    {
     "name": "stdout",
     "output_type": "stream",
     "text": [
      "\n",
      "Index nilai maksimum: 4\n"
     ]
    }
   ],
   "source": [
    "print(\"\\nIndex nilai maksimum:\", data.idxmax())"
   ]
  },
  {
   "cell_type": "code",
   "execution_count": 54,
   "metadata": {},
   "outputs": [
    {
     "name": "stdout",
     "output_type": "stream",
     "text": [
      "Index nilai minimum: 0\n"
     ]
    }
   ],
   "source": [
    "print(\"Index nilai minimum:\", data.idxmin())"
   ]
  },
  {
   "cell_type": "code",
   "execution_count": 56,
   "metadata": {},
   "outputs": [
    {
     "name": "stdout",
     "output_type": "stream",
     "text": [
      "0    10.0\n",
      "1    20.0\n",
      "2    30.0\n",
      "3    40.0\n",
      "4    50.0\n",
      "5    20.0\n",
      "6    30.0\n",
      "7     NaN\n",
      "dtype: float64\n",
      "0    False\n",
      "1     True\n",
      "2    False\n",
      "3    False\n",
      "4    False\n",
      "5     True\n",
      "6    False\n",
      "7    False\n",
      "dtype: bool\n"
     ]
    }
   ],
   "source": [
    "print(data)\n",
    "print(data.isin([20, 60]))"
   ]
  },
  {
   "cell_type": "code",
   "execution_count": 57,
   "metadata": {},
   "outputs": [
    {
     "name": "stdout",
     "output_type": "stream",
     "text": [
      "0    10.0\n",
      "1    20.0\n",
      "2    30.0\n",
      "3    40.0\n",
      "4    50.0\n",
      "5    20.0\n",
      "6    30.0\n",
      "7     NaN\n",
      "dtype: float64\n",
      "0    False\n",
      "1    False\n",
      "2    False\n",
      "3    False\n",
      "4    False\n",
      "5    False\n",
      "6    False\n",
      "7     True\n",
      "dtype: bool\n"
     ]
    }
   ],
   "source": [
    "print(data)\n",
    "print(data.isna())"
   ]
  },
  {
   "cell_type": "code",
   "execution_count": 58,
   "metadata": {},
   "outputs": [
    {
     "name": "stdout",
     "output_type": "stream",
     "text": [
      "0    10.0\n",
      "1    20.0\n",
      "2    30.0\n",
      "3    40.0\n",
      "4    50.0\n",
      "5    20.0\n",
      "6    30.0\n",
      "7     NaN\n",
      "dtype: float64\n",
      "0    False\n",
      "1    False\n",
      "2    False\n",
      "3    False\n",
      "4    False\n",
      "5    False\n",
      "6    False\n",
      "7     True\n",
      "dtype: bool\n"
     ]
    }
   ],
   "source": [
    "print(data)\n",
    "print(data.isnull())"
   ]
  },
  {
   "cell_type": "code",
   "execution_count": 59,
   "metadata": {},
   "outputs": [
    {
     "name": "stdout",
     "output_type": "stream",
     "text": [
      "0    10.0\n",
      "1    20.0\n",
      "2    30.0\n",
      "3    40.0\n",
      "4    50.0\n",
      "5    20.0\n",
      "6    30.0\n",
      "7     NaN\n",
      "dtype: float64\n",
      "\n",
      "Nilai maksimum: 50.0\n",
      "Rata-rata: 28.571428571428573\n",
      "Median: 30.0\n",
      "Nilai minimum: 10.0\n"
     ]
    }
   ],
   "source": [
    "print(data)\n",
    "print(\"\\nNilai maksimum:\", data.max())\n",
    "print(\"Rata-rata:\", data.mean())\n",
    "print(\"Median:\", data.median())\n",
    "print(\"Nilai minimum:\", data.min())"
   ]
  },
  {
   "cell_type": "code",
   "execution_count": 60,
   "metadata": {},
   "outputs": [
    {
     "name": "stdout",
     "output_type": "stream",
     "text": [
      "0    10.0\n",
      "1    20.0\n",
      "2    30.0\n",
      "3    40.0\n",
      "4    50.0\n",
      "5    20.0\n",
      "6    30.0\n",
      "dtype: float64\n",
      "0    1.0\n",
      "1    2.0\n",
      "2    0.0\n",
      "3    1.0\n",
      "4    2.0\n",
      "5    2.0\n",
      "6    0.0\n",
      "dtype: float64\n"
     ]
    }
   ],
   "source": [
    "print(data_no_na)\n",
    "print(data_no_na.mod(3))"
   ]
  },
  {
   "cell_type": "code",
   "execution_count": 61,
   "metadata": {},
   "outputs": [
    {
     "name": "stdout",
     "output_type": "stream",
     "text": [
      "0     20.0\n",
      "1     40.0\n",
      "2     60.0\n",
      "3     80.0\n",
      "4    100.0\n",
      "5     40.0\n",
      "6     60.0\n",
      "dtype: float64\n"
     ]
    }
   ],
   "source": [
    "print(data_no_na.mul(2))"
   ]
  },
  {
   "cell_type": "code",
   "execution_count": null,
   "metadata": {},
   "outputs": [
    {
     "name": "stdout",
     "output_type": "stream",
     "text": [
      "0     True\n",
      "1     True\n",
      "2     True\n",
      "3     True\n",
      "4     True\n",
      "5     True\n",
      "6     True\n",
      "7    False\n",
      "dtype: bool\n"
     ]
    }
   ],
   "source": [
    "print(data.notna())"
   ]
  },
  {
   "cell_type": "code",
   "execution_count": 64,
   "metadata": {},
   "outputs": [
    {
     "name": "stdout",
     "output_type": "stream",
     "text": [
      "0    10.0\n",
      "1    20.0\n",
      "2    30.0\n",
      "3    40.0\n",
      "4    50.0\n",
      "5    20.0\n",
      "6    30.0\n",
      "7     NaN\n",
      "dtype: float64\n",
      "\n",
      "Jumlah nilai unik: 5\n"
     ]
    }
   ],
   "source": [
    "print(data)\n",
    "print(\"\\nJumlah nilai unik:\", data.nunique())"
   ]
  },
  {
   "cell_type": "code",
   "execution_count": 65,
   "metadata": {},
   "outputs": [
    {
     "name": "stdout",
     "output_type": "stream",
     "text": [
      "\n",
      "Popped value (index 2): 30.0\n",
      "Data setelah pop:\n",
      "0    10.0\n",
      "1    20.0\n",
      "3    40.0\n",
      "4    50.0\n",
      "5    20.0\n",
      "6    30.0\n",
      "7     NaN\n",
      "dtype: float64\n"
     ]
    }
   ],
   "source": [
    "data_pop = data.copy()\n",
    "popped_value = data_pop.pop(2)\n",
    "print(\"\\nPopped value (index 2):\", popped_value)\n",
    "print(\"Data setelah pop:\")\n",
    "print(data_pop)"
   ]
  },
  {
   "cell_type": "code",
   "execution_count": 66,
   "metadata": {},
   "outputs": [
    {
     "name": "stdout",
     "output_type": "stream",
     "text": [
      "0     100.0\n",
      "1     400.0\n",
      "2     900.0\n",
      "3    1600.0\n",
      "4    2500.0\n",
      "5     400.0\n",
      "6     900.0\n",
      "dtype: float64\n"
     ]
    }
   ],
   "source": [
    "print(data_no_na.pow(2))"
   ]
  },
  {
   "cell_type": "code",
   "execution_count": 69,
   "metadata": {},
   "outputs": [
    {
     "name": "stdout",
     "output_type": "stream",
     "text": [
      "0    10.0\n",
      "1    20.0\n",
      "2    30.0\n",
      "3    40.0\n",
      "4    50.0\n",
      "5    20.0\n",
      "6    30.0\n",
      "7     NaN\n",
      "dtype: float64\n",
      "\n",
      "Replace 20 dengan 99:\n",
      "0    10.0\n",
      "1    20.0\n",
      "2    99.0\n",
      "3    40.0\n",
      "4    50.0\n",
      "5    20.0\n",
      "6    99.0\n",
      "7     NaN\n",
      "dtype: float64\n"
     ]
    }
   ],
   "source": [
    "print(data)\n",
    "data_replace = data.replace(30, 99)\n",
    "print(\"\\nReplace 20 dengan 99:\")\n",
    "print(data_replace)"
   ]
  },
  {
   "cell_type": "code",
   "execution_count": 101,
   "metadata": {},
   "outputs": [
    {
     "name": "stdout",
     "output_type": "stream",
     "text": [
      "0    10.0\n",
      "1    20.0\n",
      "5    20.0\n",
      "2    30.0\n",
      "6    30.0\n",
      "3    40.0\n",
      "4    50.0\n",
      "7     NaN\n",
      "dtype: float64\n"
     ]
    }
   ],
   "source": [
    "data_sorted = data.sort_values(ascending=True)\n",
    "print(data_sorted)"
   ]
  },
  {
   "cell_type": "code",
   "execution_count": 102,
   "metadata": {},
   "outputs": [
    {
     "name": "stdout",
     "output_type": "stream",
     "text": [
      "\n",
      "Standar deviasi: 13.451854182690985\n"
     ]
    }
   ],
   "source": [
    "print(\"\\nStandar deviasi:\", data.std())"
   ]
  },
  {
   "cell_type": "code",
   "execution_count": 72,
   "metadata": {},
   "outputs": [
    {
     "name": "stdout",
     "output_type": "stream",
     "text": [
      "0    10.0\n",
      "1    20.0\n",
      "2    30.0\n",
      "3    40.0\n",
      "4    50.0\n",
      "5    20.0\n",
      "6    30.0\n",
      "dtype: float64\n",
      "0     5.0\n",
      "1    15.0\n",
      "2    25.0\n",
      "3    35.0\n",
      "4    45.0\n",
      "5    15.0\n",
      "6    25.0\n",
      "dtype: float64\n"
     ]
    }
   ],
   "source": [
    "print(data_no_na)\n",
    "print(data_no_na.sub(5))"
   ]
  },
  {
   "cell_type": "code",
   "execution_count": 73,
   "metadata": {},
   "outputs": [
    {
     "name": "stdout",
     "output_type": "stream",
     "text": [
      "\n",
      "Jumlah total: 200.0\n"
     ]
    }
   ],
   "source": [
    "print(\"\\nJumlah total:\", data.sum())"
   ]
  },
  {
   "cell_type": "code",
   "execution_count": 75,
   "metadata": {},
   "outputs": [
    {
     "name": "stdout",
     "output_type": "stream",
     "text": [
      "0    10.0\n",
      "1    20.0\n",
      "2    30.0\n",
      "3    40.0\n",
      "4    50.0\n",
      "5    20.0\n",
      "6    30.0\n",
      "7     NaN\n",
      "dtype: float64\n",
      "{0: 10.0, 1: 20.0, 2: 30.0, 3: 40.0, 4: 50.0, 5: 20.0, 6: 30.0, 7: nan}\n"
     ]
    }
   ],
   "source": [
    "print(data)\n",
    "print(data.to_dict())"
   ]
  },
  {
   "cell_type": "code",
   "execution_count": 76,
   "metadata": {},
   "outputs": [
    {
     "name": "stdout",
     "output_type": "stream",
     "text": [
      "0    10.0\n",
      "1    20.0\n",
      "2    30.0\n",
      "3    40.0\n",
      "4    50.0\n",
      "5    20.0\n",
      "6    30.0\n",
      "7     NaN\n",
      "dtype: float64\n",
      "[10.0, 20.0, 30.0, 40.0, 50.0, 20.0, 30.0, nan]\n"
     ]
    }
   ],
   "source": [
    "print(data)\n",
    "print(data.tolist())"
   ]
  },
  {
   "cell_type": "code",
   "execution_count": null,
   "metadata": {},
   "outputs": [],
   "source": []
  }
 ],
 "metadata": {
  "kernelspec": {
   "display_name": "Python 3",
   "language": "python",
   "name": "python3"
  },
  "language_info": {
   "codemirror_mode": {
    "name": "ipython",
    "version": 3
   },
   "file_extension": ".py",
   "mimetype": "text/x-python",
   "name": "python",
   "nbconvert_exporter": "python",
   "pygments_lexer": "ipython3",
   "version": "3.13.2"
  }
 },
 "nbformat": 4,
 "nbformat_minor": 2
}
