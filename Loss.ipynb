{
 "cells": [
  {
   "cell_type": "code",
   "execution_count": 13,
   "metadata": {
    "colab": {
     "base_uri": "https://localhost:8080/"
    },
    "executionInfo": {
     "elapsed": 30,
     "status": "ok",
     "timestamp": 1741011319766,
     "user": {
      "displayName": "JASMAN PARDEDE",
      "userId": "06953395367599209044"
     },
     "user_tz": -420
    },
    "id": "zEPJ9y9HTwbm",
    "outputId": "373fe874-a872-47f9-a42c-00c64b5dfa40"
   },
   "outputs": [],
   "source": [
    "import pandas as pd\n",
    "import numpy as np\n",
    "import matplotlib.pyplot as plt\n",
    "from sklearn.neural_network import MLPRegressor\n",
    "from sklearn.model_selection import train_test_split\n",
    "from sklearn.metrics import mean_squared_error, r2_score\n",
    "import torch\n",
    "import torch.nn as nn\n",
    "import torch.optim as optim\n",
    "from sklearn.model_selection import train_test_split\n",
    "from sklearn.preprocessing import StandardScaler\n",
    "\n",
    "file_path = 'data/data1_padi.csv'\n",
    "\n",
    "df = pd.read_csv(file_path)\n",
    "X = df[[\"Luas Panen\", \"Curah hujan\", \"Kelembapan\" ,\"Suhu rata-rata\"]]\n",
    "y = df['Produksi']\n",
    "\n",
    "X_train, X_test, y_train, y_test = train_test_split(X, y, test_size=0.2, random_state=42)"
   ]
  },
  {
   "cell_type": "markdown",
   "metadata": {},
   "source": [
    "Aktifasi Swish"
   ]
  },
  {
   "cell_type": "code",
   "execution_count": 27,
   "metadata": {},
   "outputs": [
    {
     "name": "stdout",
     "output_type": "stream",
     "text": [
      "MSE (Swish): 82082486647.0609\n",
      "R² Score (Swish): 0.9072\n"
     ]
    }
   ],
   "source": [
    "class MLP(nn.Module):\n",
    "    def __init__(self):\n",
    "        super(MLP, self).__init__()\n",
    "        self.fc1 = nn.Linear(4, 32)\n",
    "        self.fc2 = nn.Linear(32, 16)\n",
    "        self.fc3 = nn.Linear(16, 1)\n",
    "\n",
    "    def forward(self, x):\n",
    "        x = F.relu(self.fc1(x))\n",
    "        x = F.relu(self.fc2(x))\n",
    "        x = self.fc3(x)\n",
    "        return x\n",
    "\n",
    "# === DEFINISI LOSS FUNCTIONS ===\n",
    "loss_functions = {\n",
    "    \"MSELoss\": nn.MSELoss(),\n",
    "    \"L1Loss\": nn.L1Loss(),\n",
    "    \"SmoothL1Loss\": nn.SmoothL1Loss(),\n",
    "    \"HuberLoss\": nn.HuberLoss()\n",
    "}\n",
    "\n",
    "# === TRAINING DAN EVALUASI ===\n",
    "epochs = 100\n",
    "results = {}\n",
    "\n",
    "for name, criterion in loss_functions.items():\n",
    "    model = MLP()\n",
    "    optimizer = optim.Adam(model.parameters(), lr=0.01)\n",
    "\n",
    "    start_time = time.time()\n",
    "    for epoch in range(epochs):\n",
    "        model.train()\n",
    "        optimizer.zero_grad()\n",
    "        y_pred = model(X_train_tensor)\n",
    "        loss = criterion(y_pred, y_train_tensor)\n",
    "        loss.backward()\n",
    "        optimizer.step()\n",
    "    end_time = time.time()\n",
    "\n",
    "    # Evaluasi\n",
    "    model.eval()\n",
    "    y_pred_test = model(X_test_tensor).detach().numpy()\n",
    "    mse = mean_squared_error(y_test, y_pred_test)\n",
    "    r2 = r2_score(y_test, y_pred_test)\n",
    "    exec_time = end_time - start_time\n",
    "\n",
    "    results[name] = {\n",
    "        \"Execution Time (s)\": exec_time,\n",
    "        \"MSE\": mse,\n",
    "        \"R2 Score\": r2\n",
    "    }\n",
    "\n",
    "# === OUTPUT HASIL ===\n",
    "print(\"Hasil Evaluasi Model:\")\n",
    "for name, res in results.items():\n",
    "    print(f\"\\n{name}:\")\n",
    "    print(f\"  Execution Time: {res['Execution Time (s)']:.4f} s\")\n",
    "    print(f\"  MSE: {res['MSE']:.4f}\")\n",
    "    print(f\"  R² Score: {res['R2 Score']:.4f}\")"
   ]
  }
 ],
 "metadata": {
  "colab": {
   "authorship_tag": "ABX9TyPP6W+2YWRg9xNpwuoWrD6F",
   "provenance": []
  },
  "kernelspec": {
   "display_name": "Python 3",
   "name": "python3"
  },
  "language_info": {
   "codemirror_mode": {
    "name": "ipython",
    "version": 3
   },
   "file_extension": ".py",
   "mimetype": "text/x-python",
   "name": "python",
   "nbconvert_exporter": "python",
   "pygments_lexer": "ipython3",
   "version": "3.13.2"
  }
 },
 "nbformat": 4,
 "nbformat_minor": 0
}
