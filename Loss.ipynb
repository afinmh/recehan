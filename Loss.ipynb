{
 "cells": [
  {
   "cell_type": "code",
   "execution_count": 2,
   "metadata": {
    "colab": {
     "base_uri": "https://localhost:8080/"
    },
    "executionInfo": {
     "elapsed": 30,
     "status": "ok",
     "timestamp": 1741011319766,
     "user": {
      "displayName": "JASMAN PARDEDE",
      "userId": "06953395367599209044"
     },
     "user_tz": -420
    },
    "id": "zEPJ9y9HTwbm",
    "outputId": "373fe874-a872-47f9-a42c-00c64b5dfa40"
   },
   "outputs": [],
   "source": [
    "import pandas as pd\n",
    "import numpy as np\n",
    "import matplotlib.pyplot as plt\n",
    "from sklearn.neural_network import MLPRegressor\n",
    "from sklearn.model_selection import train_test_split\n",
    "from sklearn.metrics import mean_squared_error, r2_score\n",
    "import torch\n",
    "import torch.nn as nn\n",
    "import torch.optim as optim\n",
    "from sklearn.model_selection import train_test_split\n",
    "from sklearn.preprocessing import StandardScaler\n",
    "\n",
    "file_path = 'data/data1_padi.csv'\n",
    "\n",
    "df = pd.read_csv(file_path)\n",
    "X = df[[\"Luas Panen\", \"Curah hujan\", \"Kelembapan\" ,\"Suhu rata-rata\"]]\n",
    "y = df['Produksi']\n",
    "\n",
    "X_train, X_test, y_train, y_test = train_test_split(X, y, test_size=0.2, random_state=42)"
   ]
  },
  {
   "cell_type": "markdown",
   "metadata": {},
   "source": [
    "Aktifasi Swish"
   ]
  },
  {
   "cell_type": "code",
   "execution_count": 7,
   "metadata": {},
   "outputs": [
    {
     "name": "stdout",
     "output_type": "stream",
     "text": [
      "Hasil Evaluasi Model:\n",
      "\n",
      "MSELoss:\n",
      "  Execution Time: 2.1425 s\n",
      "  MSE: 107728290894.6967\n",
      "  R² Score: 0.8782\n",
      "\n",
      "L1Loss:\n",
      "  Execution Time: 1.8882 s\n",
      "  MSE: 107735496733.9329\n",
      "  R² Score: 0.8781\n",
      "\n",
      "SmoothL1Loss:\n",
      "  Execution Time: 1.8421 s\n",
      "  MSE: 93989835186.4864\n",
      "  R² Score: 0.8937\n",
      "\n",
      "HuberLoss:\n",
      "  Execution Time: 1.8068 s\n",
      "  MSE: 83817896350.1421\n",
      "  R² Score: 0.9052\n",
      "\n",
      "SumMSELoss:\n",
      "  Execution Time: 1.3979 s\n",
      "  MSE: 96950764341.0574\n",
      "  R² Score: 0.8903\n"
     ]
    }
   ],
   "source": [
    "import torch\n",
    "import torch.nn as nn\n",
    "import torch.nn.functional as F\n",
    "import torch.optim as optim\n",
    "import time\n",
    "from sklearn.preprocessing import StandardScaler\n",
    "from sklearn.model_selection import train_test_split\n",
    "from sklearn.metrics import mean_squared_error, r2_score\n",
    "import pandas as pd\n",
    "import numpy as np\n",
    "\n",
    "scaler = StandardScaler()\n",
    "X_scaled = scaler.fit_transform(df[[\"Luas Panen\", \"Curah hujan\", \"Kelembapan\", \"Suhu rata-rata\"]].values)\n",
    "y = df['Produksi'].values\n",
    "\n",
    "X_train, X_test, y_train, y_test = train_test_split(X_scaled, y, test_size=0.2, random_state=42)\n",
    "\n",
    "X_train_tensor = torch.tensor(X_train, dtype=torch.float32)\n",
    "y_train_tensor = torch.tensor(y_train, dtype=torch.float32).view(-1, 1)\n",
    "X_test_tensor = torch.tensor(X_test, dtype=torch.float32)\n",
    "y_test_tensor = torch.tensor(y_test, dtype=torch.float32).view(-1, 1)\n",
    "\n",
    "# === MODEL ===\n",
    "class MLP(nn.Module):\n",
    "    def __init__(self):\n",
    "        super(MLP, self).__init__()\n",
    "        self.fc1 = nn.Linear(4, 50)\n",
    "        self.fc2 = nn.Linear(50, 50)\n",
    "        self.fc3 = nn.Linear(50, 1)\n",
    "\n",
    "    def swish(self, x):\n",
    "        return x * torch.sigmoid(x)\n",
    "\n",
    "    def forward(self, x):\n",
    "        x = self.swish(self.fc1(x))\n",
    "        x = self.swish(self.fc2(x))\n",
    "        x = self.fc3(x)\n",
    "        return x\n",
    "\n",
    "# === DEFINISI 5 FUNGSI LOSS ===\n",
    "loss_functions = {\n",
    "    \"MSELoss\": nn.MSELoss(),\n",
    "    \"L1Loss\": nn.L1Loss(),\n",
    "    \"SmoothL1Loss\": nn.SmoothL1Loss(),\n",
    "    \"HuberLoss\": nn.HuberLoss(),\n",
    "    \"SumMSELoss\": nn.MSELoss(reduction='sum')  # Tambahan\n",
    "}\n",
    "\n",
    "# === TRAINING DAN EVALUASI ===\n",
    "epochs = 1000\n",
    "results = {}\n",
    "\n",
    "for name, criterion in loss_functions.items():\n",
    "    model = MLP()\n",
    "    optimizer = optim.Adam(model.parameters(), lr=0.01)\n",
    "\n",
    "    start_time = time.time()\n",
    "    for epoch in range(epochs):\n",
    "        model.train()\n",
    "        optimizer.zero_grad()\n",
    "        y_pred = model(X_train_tensor)\n",
    "        loss = criterion(y_pred, y_train_tensor)\n",
    "        loss.backward()\n",
    "        optimizer.step()\n",
    "    end_time = time.time()\n",
    "\n",
    "    # Evaluasi\n",
    "    model.eval()\n",
    "    y_pred_test = model(X_test_tensor).detach().numpy()\n",
    "    mse = mean_squared_error(y_test, y_pred_test)\n",
    "    r2 = r2_score(y_test, y_pred_test)\n",
    "    exec_time = end_time - start_time\n",
    "\n",
    "    results[name] = {\n",
    "        \"Execution Time (s)\": exec_time,\n",
    "        \"MSE\": mse,\n",
    "        \"R2 Score\": r2\n",
    "    }\n",
    "\n",
    "# === OUTPUT HASIL ===\n",
    "print(\"Hasil Evaluasi Model:\")\n",
    "for name, res in results.items():\n",
    "    print(f\"\\n{name}:\")\n",
    "    print(f\"  Execution Time: {res['Execution Time (s)']:.4f} s\")\n",
    "    print(f\"  MSE: {res['MSE']:.4f}\")\n",
    "    print(f\"  R² Score: {res['R2 Score']:.4f}\")\n"
   ]
  }
 ],
 "metadata": {
  "colab": {
   "authorship_tag": "ABX9TyPP6W+2YWRg9xNpwuoWrD6F",
   "provenance": []
  },
  "kernelspec": {
   "display_name": "Python 3",
   "name": "python3"
  },
  "language_info": {
   "codemirror_mode": {
    "name": "ipython",
    "version": 3
   },
   "file_extension": ".py",
   "mimetype": "text/x-python",
   "name": "python",
   "nbconvert_exporter": "python",
   "pygments_lexer": "ipython3",
   "version": "3.9.13"
  }
 },
 "nbformat": 4,
 "nbformat_minor": 0
}
