{
 "cells": [
  {
   "cell_type": "code",
   "execution_count": 2,
   "metadata": {
    "colab": {
     "base_uri": "https://localhost:8080/"
    },
    "executionInfo": {
     "elapsed": 30,
     "status": "ok",
     "timestamp": 1741011319766,
     "user": {
      "displayName": "JASMAN PARDEDE",
      "userId": "06953395367599209044"
     },
     "user_tz": -420
    },
    "id": "zEPJ9y9HTwbm",
    "outputId": "373fe874-a872-47f9-a42c-00c64b5dfa40"
   },
   "outputs": [
    {
     "name": "stdout",
     "output_type": "stream",
     "text": [
      "  Provinsi  Tahun   Produksi  Luas Panen  Curah hujan  Kelembapan  \\\n",
      "0     Aceh   1993  1329536.0    323589.0       1627.0       82.00   \n",
      "1     Aceh   1994  1299699.0    329041.0       1521.0       82.12   \n",
      "2     Aceh   1995  1382905.0    339253.0       1476.0       82.72   \n",
      "3     Aceh   1996  1419128.0    348223.0       1557.0       83.00   \n",
      "4     Aceh   1997  1368074.0    337561.0       1339.0       82.46   \n",
      "\n",
      "   Suhu rata-rata  \n",
      "0           26.06  \n",
      "1           26.92  \n",
      "2           26.27  \n",
      "3           26.08  \n",
      "4           26.31  \n",
      "   Luas Panen  Curah hujan  Kelembapan  Suhu rata-rata\n",
      "0    323589.0       1627.0       82.00           26.06\n",
      "1    329041.0       1521.0       82.12           26.92\n",
      "2    339253.0       1476.0       82.72           26.27\n",
      "3    348223.0       1557.0       83.00           26.08\n",
      "4    337561.0       1339.0       82.46           26.31\n"
     ]
    }
   ],
   "source": [
    "import pandas as pd\n",
    "\n",
    "# Menentukan path file di Google Drive\n",
    "file_path = 'archive/Data_Tanaman_Padi_Sumatera_version_1.csv'\n",
    "\n",
    "# Membaca file xls\n",
    "df = pd.read_csv(file_path)\n",
    "X = df[[\"Luas Panen\", \"Curah hujan\", \"Kelembapan\" ,\"Suhu rata-rata\"]]\n",
    "y = df['Produksi']\n",
    "# print(X.head())\n",
    "# Menampilkan 5 baris pertama dari DataFrame\n",
    "print(df.head())\n",
    "print(X.head())"
   ]
  },
  {
   "cell_type": "markdown",
   "metadata": {},
   "source": [
    "Aktivasi relU"
   ]
  },
  {
   "cell_type": "code",
   "execution_count": 13,
   "metadata": {
    "colab": {
     "base_uri": "https://localhost:8080/",
     "height": 642
    },
    "executionInfo": {
     "elapsed": 724,
     "status": "ok",
     "timestamp": 1741012695777,
     "user": {
      "displayName": "JASMAN PARDEDE",
      "userId": "06953395367599209044"
     },
     "user_tz": -420
    },
    "id": "OAalbQZcTOkk",
    "outputId": "4667e081-f77c-4243-d4b6-ea7560d3e4b8"
   },
   "outputs": [
    {
     "name": "stdout",
     "output_type": "stream",
     "text": [
      "MSE: 130674736327.8858\n",
      "R² Score: 0.8522\n"
     ]
    }
   ],
   "source": [
    "import numpy as np\n",
    "import matplotlib.pyplot as plt\n",
    "from sklearn.neural_network import MLPRegressor\n",
    "from sklearn.model_selection import train_test_split\n",
    "from sklearn.metrics import mean_squared_error, r2_score\n",
    "\n",
    "# Buat dataset dummy\n",
    "X = df[[\"Luas Panen\", \"Curah hujan\", \"Kelembapan\" ,\"Suhu rata-rata\"]]\n",
    "y = df['Produksi']\n",
    "\n",
    "X_train, X_test, y_train, y_test = train_test_split(X, y, test_size=0.2, random_state=42)\n",
    "\n",
    "# Buat model MLPRegressor dengan 2 hidden layer (50 neuron per layer)\n",
    "mlp = MLPRegressor(hidden_layer_sizes=(50, 50), activation='relu', solver='adam', max_iter=1000, random_state=42)\n",
    "mlp.fit(X_train, y_train)\n",
    "y_pred = mlp.predict(X_test)\n",
    "mse = mean_squared_error(y_test, y_pred)\n",
    "r2 = r2_score(y_test, y_pred)\n",
    "\n",
    "print(f'MSE: {mse:.4f}')\n",
    "print(f'R² Score: {r2:.4f}')\n"
   ]
  },
  {
   "cell_type": "markdown",
   "metadata": {},
   "source": [
    "Aktivasi Linear"
   ]
  },
  {
   "cell_type": "code",
   "execution_count": 14,
   "metadata": {},
   "outputs": [
    {
     "name": "stdout",
     "output_type": "stream",
     "text": [
      "MSE: 166000978277.9355\n",
      "R² Score: 0.8122\n"
     ]
    }
   ],
   "source": [
    "import numpy as np\n",
    "import matplotlib.pyplot as plt\n",
    "from sklearn.neural_network import MLPRegressor\n",
    "from sklearn.model_selection import train_test_split\n",
    "from sklearn.metrics import mean_squared_error, r2_score\n",
    "\n",
    "# Buat dataset dummy\n",
    "X = df[[\"Luas Panen\", \"Curah hujan\", \"Kelembapan\" ,\"Suhu rata-rata\"]]\n",
    "y = df['Produksi']\n",
    "\n",
    "X_train, X_test, y_train, y_test = train_test_split(X, y, test_size=0.2, random_state=42)\n",
    "\n",
    "# Buat model MLPRegressor dengan 2 hidden layer (50 neuron per layer)\n",
    "mlp = MLPRegressor(hidden_layer_sizes=(50, 50), activation='identity', solver='adam', max_iter=1000, random_state=42)\n",
    "mlp.fit(X_train, y_train)\n",
    "y_pred = mlp.predict(X_test)\n",
    "mse = mean_squared_error(y_test, y_pred)\n",
    "r2 = r2_score(y_test, y_pred)\n",
    "\n",
    "print(f'MSE: {mse:.4f}')\n",
    "print(f'R² Score: {r2:.4f}')\n"
   ]
  },
  {
   "cell_type": "code",
   "execution_count": null,
   "metadata": {},
   "outputs": [],
   "source": [
    "Aktivasi Leaky relU"
   ]
  },
  {
   "cell_type": "code",
   "execution_count": 22,
   "metadata": {},
   "outputs": [
    {
     "name": "stdout",
     "output_type": "stream",
     "text": [
      "Epoch 0: Loss = 4434771312640.0000\n",
      "Epoch 100: Loss = 4406700933120.0000\n",
      "Epoch 200: Loss = 4089013600256.0000\n",
      "Epoch 300: Loss = 3185484496896.0000\n",
      "Epoch 400: Loss = 1900727762944.0000\n",
      "Epoch 500: Loss = 883781468160.0000\n",
      "Epoch 600: Loss = 468585709568.0000\n",
      "Epoch 700: Loss = 377618432000.0000\n",
      "Epoch 800: Loss = 347238432768.0000\n",
      "Epoch 900: Loss = 327450263552.0000\n",
      "MSE (Leaky ReLU): 108650920154.6803\n",
      "R² Score (Leaky ReLU): 0.8771\n"
     ]
    }
   ],
   "source": [
    "import torch\n",
    "import torch.nn as nn\n",
    "import torch.optim as optim\n",
    "from sklearn.model_selection import train_test_split\n",
    "from sklearn.preprocessing import StandardScaler\n",
    "\n",
    "# Normalisasi dataset\n",
    "scaler = StandardScaler()\n",
    "X_scaled = scaler.fit_transform(df[[\"Luas Panen\", \"Curah hujan\", \"Kelembapan\", \"Suhu rata-rata\"]].values)\n",
    "y = df['Produksi'].values\n",
    "\n",
    "# Split data\n",
    "X_train, X_test, y_train, y_test = train_test_split(X_scaled, y, test_size=0.2, random_state=42)\n",
    "\n",
    "# Konversi ke tensor PyTorch\n",
    "X_train_tensor = torch.tensor(X_train, dtype=torch.float32)\n",
    "y_train_tensor = torch.tensor(y_train, dtype=torch.float32).view(-1, 1)\n",
    "X_test_tensor = torch.tensor(X_test, dtype=torch.float32)\n",
    "y_test_tensor = torch.tensor(y_test, dtype=torch.float32).view(-1, 1)\n",
    "\n",
    "# Model dengan Leaky ReLU\n",
    "class MLPLeakyReLU(nn.Module):\n",
    "    def __init__(self):\n",
    "        super(MLPLeakyReLU, self).__init__()\n",
    "        self.fc1 = nn.Linear(4, 50)\n",
    "        self.fc2 = nn.Linear(50, 50)\n",
    "        self.fc3 = nn.Linear(50, 1)\n",
    "        self.leaky_relu = nn.LeakyReLU(negative_slope=0.01)\n",
    "\n",
    "    def forward(self, x):\n",
    "        x = self.leaky_relu(self.fc1(x))\n",
    "        x = self.leaky_relu(self.fc2(x))\n",
    "        x = self.fc3(x)  # Output layer (linear activation)\n",
    "        return x\n",
    "\n",
    "# Inisialisasi model\n",
    "model_leaky = MLPLeakyReLU()\n",
    "criterion = nn.MSELoss()\n",
    "optimizer = optim.Adam(model_leaky.parameters(), lr=0.01)\n",
    "\n",
    "# Training\n",
    "epochs = 1000\n",
    "for epoch in range(epochs):\n",
    "    optimizer.zero_grad()\n",
    "    y_pred_train = model_leaky(X_train_tensor)\n",
    "    loss = criterion(y_pred_train, y_train_tensor)\n",
    "    loss.backward()\n",
    "    optimizer.step()\n",
    "\n",
    "    if epoch % 100 == 0:\n",
    "        print(f'Epoch {epoch}: Loss = {loss.item():.4f}')\n",
    "\n",
    "# Evaluasi\n",
    "y_pred_test = model_leaky(X_test_tensor).detach().numpy()\n",
    "mse = mean_squared_error(y_test, y_pred_test)\n",
    "r2 = r2_score(y_test, y_pred_test)\n",
    "\n",
    "print(f'MSE (Leaky ReLU): {mse:.4f}')\n",
    "print(f'R² Score (Leaky ReLU): {r2:.4f}')\n"
   ]
  },
  {
   "cell_type": "markdown",
   "metadata": {},
   "source": [
    "Aktifasi Swish"
   ]
  },
  {
   "cell_type": "code",
   "execution_count": 23,
   "metadata": {},
   "outputs": [
    {
     "name": "stdout",
     "output_type": "stream",
     "text": [
      "Epoch 0: Loss = 4434771312640.0000\n",
      "Epoch 100: Loss = 4410982793216.0000\n",
      "Epoch 200: Loss = 4144704520192.0000\n",
      "Epoch 300: Loss = 3376569647104.0000\n",
      "Epoch 400: Loss = 2190993391616.0000\n",
      "Epoch 500: Loss = 1111582179328.0000\n",
      "Epoch 600: Loss = 575222054912.0000\n",
      "Epoch 700: Loss = 403817988096.0000\n",
      "Epoch 800: Loss = 344630493184.0000\n",
      "Epoch 900: Loss = 316441329664.0000\n",
      "MSE (Swish): 76406624041.7528\n",
      "R² Score (Swish): 0.9136\n"
     ]
    }
   ],
   "source": [
    "# Model dengan Swish Activation\n",
    "class MLPSwish(nn.Module):\n",
    "    def __init__(self):\n",
    "        super(MLPSwish, self).__init__()\n",
    "        self.fc1 = nn.Linear(4, 50)\n",
    "        self.fc2 = nn.Linear(50, 50)\n",
    "        self.fc3 = nn.Linear(50, 1)\n",
    "\n",
    "    def swish(self, x):\n",
    "        return x * torch.sigmoid(x)\n",
    "\n",
    "    def forward(self, x):\n",
    "        x = self.swish(self.fc1(x))\n",
    "        x = self.swish(self.fc2(x))\n",
    "        x = self.fc3(x)  # Output layer (linear activation)\n",
    "        return x\n",
    "\n",
    "# Inisialisasi model\n",
    "model_swish = MLPSwish()\n",
    "criterion = nn.MSELoss()\n",
    "optimizer = optim.Adam(model_swish.parameters(), lr=0.01)\n",
    "\n",
    "# Training\n",
    "for epoch in range(epochs):\n",
    "    optimizer.zero_grad()\n",
    "    y_pred_train = model_swish(X_train_tensor)\n",
    "    loss = criterion(y_pred_train, y_train_tensor)\n",
    "    loss.backward()\n",
    "    optimizer.step()\n",
    "\n",
    "    if epoch % 100 == 0:\n",
    "        print(f'Epoch {epoch}: Loss = {loss.item():.4f}')\n",
    "\n",
    "# Evaluasi\n",
    "y_pred_test = model_swish(X_test_tensor).detach().numpy()\n",
    "mse = mean_squared_error(y_test, y_pred_test)\n",
    "r2 = r2_score(y_test, y_pred_test)\n",
    "\n",
    "print(f'MSE (Swish): {mse:.4f}')\n",
    "print(f'R² Score (Swish): {r2:.4f}')\n"
   ]
  },
  {
   "cell_type": "markdown",
   "metadata": {},
   "source": [
    "Aktivasi GelU"
   ]
  },
  {
   "cell_type": "code",
   "execution_count": 24,
   "metadata": {},
   "outputs": [
    {
     "name": "stdout",
     "output_type": "stream",
     "text": [
      "Epoch 0: Loss = 4434771312640.0000\n",
      "Epoch 100: Loss = 4409313460224.0000\n",
      "Epoch 200: Loss = 4126554718208.0000\n",
      "Epoch 300: Loss = 3319364059136.0000\n",
      "Epoch 400: Loss = 2117670010880.0000\n",
      "Epoch 500: Loss = 1062669516800.0000\n",
      "Epoch 600: Loss = 533405761536.0000\n",
      "Epoch 700: Loss = 383799754752.0000\n",
      "Epoch 800: Loss = 341333639168.0000\n",
      "Epoch 900: Loss = 318662377472.0000\n",
      "MSE (GELU): 106278699517.6254\n",
      "R² Score (GELU): 0.8798\n"
     ]
    }
   ],
   "source": [
    "import torch\n",
    "import torch.nn as nn\n",
    "import torch.optim as optim\n",
    "from sklearn.model_selection import train_test_split\n",
    "from sklearn.preprocessing import StandardScaler\n",
    "from sklearn.metrics import mean_squared_error, r2_score\n",
    "\n",
    "# Normalisasi dataset\n",
    "scaler = StandardScaler()\n",
    "X_scaled = scaler.fit_transform(df[[\"Luas Panen\", \"Curah hujan\", \"Kelembapan\", \"Suhu rata-rata\"]].values)\n",
    "y = df['Produksi'].values\n",
    "\n",
    "# Split data\n",
    "X_train, X_test, y_train, y_test = train_test_split(X_scaled, y, test_size=0.2, random_state=42)\n",
    "\n",
    "# Konversi ke tensor PyTorch\n",
    "X_train_tensor = torch.tensor(X_train, dtype=torch.float32)\n",
    "y_train_tensor = torch.tensor(y_train, dtype=torch.float32).view(-1, 1)\n",
    "X_test_tensor = torch.tensor(X_test, dtype=torch.float32)\n",
    "y_test_tensor = torch.tensor(y_test, dtype=torch.float32).view(-1, 1)\n",
    "\n",
    "# Model dengan GELU Activation\n",
    "class MLPGELU(nn.Module):\n",
    "    def __init__(self):\n",
    "        super(MLPGELU, self).__init__()\n",
    "        self.fc1 = nn.Linear(4, 50)\n",
    "        self.fc2 = nn.Linear(50, 50)\n",
    "        self.fc3 = nn.Linear(50, 1)\n",
    "        self.gelu = nn.GELU()  # Fungsi aktivasi GELU\n",
    "\n",
    "    def forward(self, x):\n",
    "        x = self.gelu(self.fc1(x))\n",
    "        x = self.gelu(self.fc2(x))\n",
    "        x = self.fc3(x)  # Output layer (linear activation)\n",
    "        return x\n",
    "\n",
    "# Inisialisasi model\n",
    "model_gelu = MLPGELU()\n",
    "criterion = nn.MSELoss()\n",
    "optimizer = optim.Adam(model_gelu.parameters(), lr=0.01)\n",
    "\n",
    "# Training\n",
    "epochs = 1000\n",
    "for epoch in range(epochs):\n",
    "    optimizer.zero_grad()\n",
    "    y_pred_train = model_gelu(X_train_tensor)\n",
    "    loss = criterion(y_pred_train, y_train_tensor)\n",
    "    loss.backward()\n",
    "    optimizer.step()\n",
    "\n",
    "    if epoch % 100 == 0:\n",
    "        print(f'Epoch {epoch}: Loss = {loss.item():.4f}')\n",
    "\n",
    "# Evaluasi\n",
    "y_pred_test = model_gelu(X_test_tensor).detach().numpy()\n",
    "mse = mean_squared_error(y_test, y_pred_test)\n",
    "r2 = r2_score(y_test, y_pred_test)\n",
    "\n",
    "print(f'MSE (GELU): {mse:.4f}')\n",
    "print(f'R² Score (GELU): {r2:.4f}')\n"
   ]
  },
  {
   "cell_type": "markdown",
   "metadata": {},
   "source": [
    "Aktivasi Sigmoid"
   ]
  },
  {
   "cell_type": "code",
   "execution_count": 25,
   "metadata": {},
   "outputs": [
    {
     "name": "stdout",
     "output_type": "stream",
     "text": [
      "MSE: 3087738564988.0225\n",
      "R² Score: -2.4924\n"
     ]
    },
    {
     "name": "stderr",
     "output_type": "stream",
     "text": [
      "c:\\Users\\user\\AppData\\Local\\Programs\\Python\\Python313\\Lib\\site-packages\\sklearn\\neural_network\\_multilayer_perceptron.py:691: ConvergenceWarning: Stochastic Optimizer: Maximum iterations (1000) reached and the optimization hasn't converged yet.\n",
      "  warnings.warn(\n"
     ]
    }
   ],
   "source": [
    "import numpy as np\n",
    "import matplotlib.pyplot as plt\n",
    "from sklearn.neural_network import MLPRegressor\n",
    "from sklearn.model_selection import train_test_split\n",
    "from sklearn.metrics import mean_squared_error, r2_score\n",
    "\n",
    "# Buat dataset dummy\n",
    "X = df[[\"Luas Panen\", \"Curah hujan\", \"Kelembapan\" ,\"Suhu rata-rata\"]]\n",
    "y = df['Produksi']\n",
    "\n",
    "X_train, X_test, y_train, y_test = train_test_split(X, y, test_size=0.2, random_state=42)\n",
    "\n",
    "# Buat model MLPRegressor dengan 2 hidden layer (50 neuron per layer)\n",
    "mlp = MLPRegressor(hidden_layer_sizes=(50, 50), activation='logistic', solver='adam', max_iter=1000, random_state=42)\n",
    "mlp.fit(X_train, y_train)\n",
    "y_pred = mlp.predict(X_test)\n",
    "mse = mean_squared_error(y_test, y_pred)\n",
    "r2 = r2_score(y_test, y_pred)\n",
    "\n",
    "print(f'MSE: {mse:.4f}')\n",
    "print(f'R² Score: {r2:.4f}')\n"
   ]
  },
  {
   "cell_type": "markdown",
   "metadata": {},
   "source": [
    "Aktivasi Tanh"
   ]
  },
  {
   "cell_type": "code",
   "execution_count": 26,
   "metadata": {},
   "outputs": [
    {
     "name": "stdout",
     "output_type": "stream",
     "text": [
      "MSE: 3087718145609.8096\n",
      "R² Score: -2.4924\n"
     ]
    },
    {
     "name": "stderr",
     "output_type": "stream",
     "text": [
      "c:\\Users\\user\\AppData\\Local\\Programs\\Python\\Python313\\Lib\\site-packages\\sklearn\\neural_network\\_multilayer_perceptron.py:691: ConvergenceWarning: Stochastic Optimizer: Maximum iterations (1000) reached and the optimization hasn't converged yet.\n",
      "  warnings.warn(\n"
     ]
    }
   ],
   "source": [
    "import numpy as np\n",
    "import matplotlib.pyplot as plt\n",
    "from sklearn.neural_network import MLPRegressor\n",
    "from sklearn.model_selection import train_test_split\n",
    "from sklearn.metrics import mean_squared_error, r2_score\n",
    "\n",
    "# Buat dataset dummy\n",
    "X = df[[\"Luas Panen\", \"Curah hujan\", \"Kelembapan\" ,\"Suhu rata-rata\"]]\n",
    "y = df['Produksi']\n",
    "\n",
    "X_train, X_test, y_train, y_test = train_test_split(X, y, test_size=0.2, random_state=42)\n",
    "\n",
    "# Buat model MLPRegressor dengan 2 hidden layer (50 neuron per layer)\n",
    "mlp = MLPRegressor(hidden_layer_sizes=(50, 50), activation='tanh', solver='adam', max_iter=1000, random_state=42)\n",
    "mlp.fit(X_train, y_train)\n",
    "y_pred = mlp.predict(X_test)\n",
    "mse = mean_squared_error(y_test, y_pred)\n",
    "r2 = r2_score(y_test, y_pred)\n",
    "\n",
    "print(f'MSE: {mse:.4f}')\n",
    "print(f'R² Score: {r2:.4f}')\n"
   ]
  },
  {
   "cell_type": "code",
   "execution_count": 14,
   "metadata": {
    "colab": {
     "base_uri": "https://localhost:8080/"
    },
    "executionInfo": {
     "elapsed": 12,
     "status": "ok",
     "timestamp": 1741012704376,
     "user": {
      "displayName": "JASMAN PARDEDE",
      "userId": "06953395367599209044"
     },
     "user_tz": -420
    },
    "id": "Ghm-OImxZKiF",
    "outputId": "6846466c-24e6-4c49-cef0-f042b8316f3d"
   },
   "outputs": [
    {
     "name": "stdout",
     "output_type": "stream",
     "text": [
      "Lapisan 1:\n",
      "Bobot:\n",
      " [[-2.29396844e-02  4.58853547e-01  3.29696793e-01  1.99115396e-01\n",
      "  -1.23667056e-01 -1.23680231e-01 -1.79076384e-01  3.64855806e-01\n",
      "   1.81798089e-01  2.91845146e-01 -2.01098376e-01  4.54283995e-01\n",
      "   3.21286439e-01 -9.37457333e-02 -1.09737724e-01 -1.08896505e-01\n",
      "  -4.98652785e-02  1.92370007e-01 -7.70896040e-03 -5.55881712e-02\n",
      "   3.70654572e-03 -1.32755605e-01 -5.51793064e-02 -2.56650305e-02\n",
      "  -3.64663764e-03  2.27215894e-01 -1.00314964e-01  1.81674845e-01\n",
      "   2.09578160e-01 -1.85868791e-01  2.20765150e-01 -1.15795525e-01\n",
      "  -1.75026127e-01  4.63198877e-01  4.55699880e-01  2.07450016e-01\n",
      "  -4.97047706e-02 -1.56262604e-01  2.86777499e-01 -6.16015789e-03\n",
      "  -1.42484276e-01 -1.40064405e-02 -1.92949729e-01  4.29974825e-01\n",
      "  -7.06327596e-02  2.75381855e-01 -4.66707084e-02  1.77985918e-01\n",
      "  -5.06171958e-03 -1.08125525e-01]\n",
      " [ 1.95290319e-01  3.43178752e-01  4.69429512e-01  3.98200197e-01\n",
      "   1.47200825e-02  1.67465340e-01 -1.61508115e-01 -8.02842992e-02\n",
      "  -1.86710193e-01  3.79342504e-02 -1.85293540e-02 -1.01401882e-02\n",
      "   3.20693354e-01 -2.90195965e-02 -6.02475278e-02  3.47907136e-03\n",
      "  -1.31964084e-01  3.78935363e-01 -1.69527664e-01  2.05527838e-01\n",
      "   1.10407199e-01 -1.00815997e-01 -2.10041227e-01  1.08293390e-01\n",
      "   5.47346478e-02  1.91639484e-01  8.54028718e-02 -1.06057745e-01\n",
      "   5.49627669e-02 -1.45951847e-01  3.92586187e-01  2.22400941e-02\n",
      "  -3.87929900e-02 -1.25512476e-01  2.05456908e-02 -1.13214631e-01\n",
      "   6.51303820e-02  2.70139498e-02  4.23458838e-01 -1.76287174e-03\n",
      "  -1.43856230e-01  1.29936774e-01  8.01675631e-02  1.99239804e-01\n",
      "   8.52503473e-02  1.64339785e-01  1.30851193e-03  1.17654577e-01\n",
      "  -3.51720295e-01 -1.50457321e-01]\n",
      " [-1.94692705e-01  2.49159006e-01  5.10018143e-02  1.38854407e-01\n",
      "   1.59252611e-01 -7.52167824e-02 -1.25655962e-02  2.90938926e-01\n",
      "  -6.66317438e-02 -1.29051822e-01 -5.62500346e-02 -8.49491750e-02\n",
      "   3.85944919e-01  1.04406886e-01  2.55852216e-02  1.38846303e-01\n",
      "   1.02067083e-01 -3.32615033e-02  1.50712406e-01  3.04346675e-03\n",
      "   1.34111762e-01  1.52715369e-01 -4.40334127e-02 -1.49234818e-01\n",
      "  -8.58029018e-02 -1.18003475e-02  1.09652308e-01  4.13141605e-01\n",
      "  -1.80875736e-01  4.75573443e-04  9.39054149e-02 -8.87508833e-02\n",
      "  -1.43703919e-01  5.55529992e-02  4.40422980e-01 -1.16111523e-01\n",
      "   9.97253816e-04  5.30348091e-02  7.28216718e-02  1.96586529e-01\n",
      "   1.91088551e-01 -1.77174707e-01 -9.90944983e-05  2.41740446e-02\n",
      "  -5.84665295e-02 -1.41860675e-01  1.80087421e-02  1.66148844e-01\n",
      "  -3.34730937e-01 -6.12980627e-02]\n",
      " [ 1.59652516e-01 -1.57310049e-02 -6.23579083e-02  1.25716178e-01\n",
      "   2.04793892e-01 -7.87639247e-02  4.00053042e-02  2.94601856e-01\n",
      "  -6.12274515e-02  3.04803869e-01 -2.51826239e-02  2.28819502e-01\n",
      "   1.88067715e-01  2.61185629e-03 -1.60478872e-01  1.18944861e-01\n",
      "  -4.28859932e-02 -3.36713369e-02 -1.89195747e-01  1.28873705e-02\n",
      "   4.75776628e-02 -2.03466197e-01  5.52553426e-04 -8.65288076e-02\n",
      "   2.97110799e-02 -1.80767059e-01  4.77958420e-02  9.66885508e-02\n",
      "   4.38662296e-01 -1.33848808e-01  4.26891231e-02 -1.47302261e-01\n",
      "   1.69091383e-01  4.15025654e-01 -1.65162032e-02  1.08087644e-01\n",
      "   1.09230108e-01  5.35908355e-03  1.83160309e-01 -7.88640231e-02\n",
      "  -1.58870111e-01  2.53196373e-01  1.55174886e-01  2.45344077e-01\n",
      "  -3.56086031e-02  6.60182179e-02  6.34269647e-02  4.28753942e-01\n",
      "   2.22318073e-01  8.97597119e-02]]\n",
      "Bias:\n",
      " [ 0.09468776 -0.11905659 -0.05085859  0.3988004   0.07095271 -0.32720197\n",
      " -0.26568564  0.22953093 -0.21584286 -0.0731992   0.03248919  0.26880209\n",
      "  0.20074025 -0.18382046  0.14145281 -0.17516728 -0.1164002   0.33997868\n",
      "  0.09975527  0.23281561  0.03423255  0.04553907 -0.27088349 -0.08818946\n",
      " -0.15653175 -0.13393093  0.31534037  0.10133739  0.40915307  0.08742575\n",
      "  0.3454707   0.00175806  0.05126926  0.15878389 -0.05805344  0.15001995\n",
      " -0.14615176 -0.31712269  0.26067975 -0.21525955  0.29363906  0.29094594\n",
      "  0.27657626  0.07032704 -0.32302892  0.45239037 -0.04787723  0.47542823\n",
      "  0.27335968  0.23533964]\n",
      "------------------------------\n",
      "Lapisan 2:\n",
      "Bobot:\n",
      " [[-3.18583458e-02 -1.12974084e-02  7.88068113e-02 ... -5.56137398e-02\n",
      "   1.27388022e-02 -1.02609952e-01]\n",
      " [-1.15779048e-01  1.33441607e-03  1.96791430e-03 ... -1.18310795e-01\n",
      "  -1.32056015e-02  1.32948019e-02]\n",
      " [ 8.19826067e-05  8.07527620e-02  2.01343767e-02 ... -4.86775566e-03\n",
      "   4.50146384e-02  4.61474791e-02]\n",
      " ...\n",
      " [ 1.40022195e-02 -1.14730270e-01  4.43324612e-02 ...  9.90682468e-06\n",
      "  -4.44192622e-03 -2.09388127e-03]\n",
      " [-5.79076815e-02 -1.43398595e-02 -1.41242079e-02 ... -2.72555495e-02\n",
      "   5.22972673e-02  5.19526522e-02]\n",
      " [ 7.75727649e-04  1.26851624e-01 -8.73673426e-02 ... -7.94963214e-02\n",
      "   6.46728415e-02  1.52648079e-02]]\n",
      "Bias:\n",
      " [-5.47873911e-02  8.53060746e-02 -1.17622058e-01 -7.58400195e-02\n",
      "  2.04525458e-01  1.47555240e-02  1.10538291e-01  2.14959058e-01\n",
      "  2.34244524e-01 -2.14475741e-01 -1.83307215e-01 -1.08874009e-01\n",
      "  1.93782956e-01 -2.56346815e-02 -3.53366463e-02  3.46859419e-01\n",
      "  1.45302379e-02 -1.26445946e-01  2.95688270e-04  8.79956325e-02\n",
      " -2.07599538e-01 -1.10372139e-01  1.50381764e-01 -2.05547484e-02\n",
      "  1.69068932e-02  8.78415510e-02 -2.23442482e-01 -2.14011731e-01\n",
      " -2.66790395e-02 -1.42469444e-01 -2.20464351e-01  2.96599729e-01\n",
      "  2.35735233e-01  1.43610093e-01  1.63530636e-01 -1.26404875e-01\n",
      "  3.43391757e-01 -1.48475476e-01  3.15258321e-01  2.42410957e-01\n",
      "  1.03722568e-01  3.40094063e-01  1.53403835e-01  1.05653734e-03\n",
      " -3.08655864e-02  1.37595964e-02 -2.09146467e-01  5.99357144e-02\n",
      "  2.35728035e-01 -1.51815627e-01]\n",
      "------------------------------\n",
      "Lapisan 3:\n",
      "Bobot:\n",
      " [[ 1.00708000e-01]\n",
      " [ 1.66227116e-01]\n",
      " [ 1.87635528e-01]\n",
      " [ 1.97586310e-01]\n",
      " [ 1.25452117e-03]\n",
      " [ 4.80489107e-01]\n",
      " [ 3.50679474e-01]\n",
      " [-1.53640236e-01]\n",
      " [ 1.62866415e-01]\n",
      " [ 6.28259087e-02]\n",
      " [-1.00329772e-01]\n",
      " [ 2.62560786e-01]\n",
      " [ 2.80341539e-01]\n",
      " [-1.25361289e-01]\n",
      " [ 2.03829097e-01]\n",
      " [ 3.38042624e-01]\n",
      " [-3.91190720e-05]\n",
      " [-2.14551176e-01]\n",
      " [-2.16435076e-01]\n",
      " [-3.04148078e-02]\n",
      " [ 1.77117914e-01]\n",
      " [-8.94103401e-02]\n",
      " [ 2.72582810e-02]\n",
      " [-1.58457890e-01]\n",
      " [-1.07283862e-01]\n",
      " [ 4.03058149e-01]\n",
      " [ 6.79056047e-02]\n",
      " [-2.40291469e-01]\n",
      " [-8.80069227e-03]\n",
      " [-2.04099650e-01]\n",
      " [-1.06298183e-03]\n",
      " [ 2.56948566e-01]\n",
      " [-1.50711593e-01]\n",
      " [-5.94111971e-02]\n",
      " [-2.82558759e-02]\n",
      " [ 1.73139214e-01]\n",
      " [ 5.03256698e-01]\n",
      " [-1.94522745e-01]\n",
      " [ 2.50113822e-01]\n",
      " [-2.51075957e-02]\n",
      " [-1.83322804e-02]\n",
      " [ 2.70321063e-01]\n",
      " [ 4.57827831e-01]\n",
      " [ 4.82068908e-01]\n",
      " [ 1.01158774e-02]\n",
      " [-7.28962761e-02]\n",
      " [ 9.80001354e-02]\n",
      " [-7.79134655e-02]\n",
      " [ 7.29201467e-03]\n",
      " [-2.98369530e-02]]\n",
      "Bias:\n",
      " [0.21618567]\n",
      "------------------------------\n"
     ]
    }
   ],
   "source": [
    "# Mengambil bobot dan bias\n",
    "weights = mlp.coefs_  # Bobot antar lapisan\n",
    "biases = mlp.intercepts_  # Bias tiap lapisan\n",
    "\n",
    "# Tampilkan bobot dan bias\n",
    "for i, (w, b) in enumerate(zip(weights, biases)):\n",
    "    print(f\"Lapisan {i+1}:\")\n",
    "    print(\"Bobot:\\n\", w)\n",
    "    print(\"Bias:\\n\", b)\n",
    "    print(\"-\" * 30)"
   ]
  },
  {
   "cell_type": "code",
   "execution_count": null,
   "metadata": {},
   "outputs": [],
   "source": []
  }
 ],
 "metadata": {
  "colab": {
   "authorship_tag": "ABX9TyPP6W+2YWRg9xNpwuoWrD6F",
   "provenance": []
  },
  "kernelspec": {
   "display_name": "Python 3",
   "name": "python3"
  },
  "language_info": {
   "codemirror_mode": {
    "name": "ipython",
    "version": 3
   },
   "file_extension": ".py",
   "mimetype": "text/x-python",
   "name": "python",
   "nbconvert_exporter": "python",
   "pygments_lexer": "ipython3",
   "version": "3.13.2"
  }
 },
 "nbformat": 4,
 "nbformat_minor": 0
}
